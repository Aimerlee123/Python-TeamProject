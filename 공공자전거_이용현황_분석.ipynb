{
  "cells": [
    {
      "cell_type": "markdown",
      "metadata": {
        "id": "view-in-github",
        "colab_type": "text"
      },
      "source": [
        "<a href=\"https://colab.research.google.com/github/Aimerlee123/Python-TeamProject/blob/aimerlee/%EA%B3%B5%EA%B3%B5%EC%9E%90%EC%A0%84%EA%B1%B0_%EC%9D%B4%EC%9A%A9%ED%98%84%ED%99%A9_%EB%B6%84%EC%84%9D.ipynb\" target=\"_parent\"><img src=\"https://colab.research.google.com/assets/colab-badge.svg\" alt=\"Open In Colab\"/></a>"
      ]
    },
    {
      "cell_type": "code",
      "execution_count": 1,
      "metadata": {
        "id": "ahBdPomoleKx"
      },
      "outputs": [],
      "source": [
        "import numpy as np\n",
        "import pandas as pd\n",
        "import seaborn as sns\n",
        "import matplotlib.pyplot as plt\n",
        "plt.rc('font', family='NanumBarunGothic')"
      ]
    },
    {
      "cell_type": "markdown",
      "source": [],
      "metadata": {
        "id": "y4GIPkCPJg2a"
      }
    },
    {
      "cell_type": "code",
      "source": [
        "!sudo apt-get install -y fonts-nanum\n",
        "!sudo fc-cache -fv\n",
        "!rm ~/.cache/matplotlib -rf"
      ],
      "metadata": {
        "colab": {
          "base_uri": "https://localhost:8080/"
        },
        "id": "rQavNgqmHeY3",
        "outputId": "dd81a434-f9d2-42af-a152-5374fb073c08"
      },
      "execution_count": 3,
      "outputs": [
        {
          "output_type": "stream",
          "name": "stdout",
          "text": [
            "Reading package lists... Done\n",
            "Building dependency tree       \n",
            "Reading state information... Done\n",
            "fonts-nanum is already the newest version (20180306-3).\n",
            "The following package was automatically installed and is no longer required:\n",
            "  libnvidia-common-510\n",
            "Use 'sudo apt autoremove' to remove it.\n",
            "0 upgraded, 0 newly installed, 0 to remove and 21 not upgraded.\n",
            "/usr/share/fonts: caching, new cache contents: 0 fonts, 1 dirs\n",
            "/usr/share/fonts/truetype: caching, new cache contents: 0 fonts, 3 dirs\n",
            "/usr/share/fonts/truetype/humor-sans: caching, new cache contents: 1 fonts, 0 dirs\n",
            "/usr/share/fonts/truetype/liberation: caching, new cache contents: 16 fonts, 0 dirs\n",
            "/usr/share/fonts/truetype/nanum: caching, new cache contents: 10 fonts, 0 dirs\n",
            "/usr/local/share/fonts: caching, new cache contents: 0 fonts, 0 dirs\n",
            "/root/.local/share/fonts: skipping, no such directory\n",
            "/root/.fonts: skipping, no such directory\n",
            "/usr/share/fonts/truetype: skipping, looped directory detected\n",
            "/usr/share/fonts/truetype/humor-sans: skipping, looped directory detected\n",
            "/usr/share/fonts/truetype/liberation: skipping, looped directory detected\n",
            "/usr/share/fonts/truetype/nanum: skipping, looped directory detected\n",
            "/var/cache/fontconfig: cleaning cache directory\n",
            "/root/.cache/fontconfig: not cleaning non-existent cache directory\n",
            "/root/.fontconfig: not cleaning non-existent cache directory\n",
            "fc-cache: succeeded\n"
          ]
        }
      ]
    },
    {
      "cell_type": "code",
      "execution_count": 4,
      "metadata": {
        "id": "1JVjrt_uxUGa"
      },
      "outputs": [],
      "source": [
        "bike_6=pd.read_csv('/content/drive/MyDrive/data/서울특별시공공자전거이용정보(시간대별)_22.06.csv',engine='python')\n"
      ]
    },
    {
      "cell_type": "code",
      "source": [
        "bike_9=pd.read_csv('/content/drive/MyDrive/data/서울특별시공공자전거이용정보(시간대별)_22.09.csv',engine='python')"
      ],
      "metadata": {
        "id": "8Cu19qNPHR_G"
      },
      "execution_count": 5,
      "outputs": []
    },
    {
      "cell_type": "code",
      "source": [
        "biketotal=pd.concat([bike_6,bike_9],ignore_index=True)\n",
        "biketotal.head()"
      ],
      "metadata": {
        "colab": {
          "base_uri": "https://localhost:8080/",
          "height": 206
        },
        "id": "S39FccxQI086",
        "outputId": "2a3b0b41-351d-4f0a-993b-1b5f90f9eda1"
      },
      "execution_count": 7,
      "outputs": [
        {
          "output_type": "execute_result",
          "data": {
            "text/plain": [
              "         대여일자  대여시간  대여소번호                대여소명 대여구분코드   성별 연령대코드  이용건수    운동량  \\\n",
              "0  2022-06-01     0    742    742. 등촌역 5번 출구 뒤    정기권  NaN  ~10대     1  48.30   \n",
              "1  2022-06-01     0   2059      2059. 보라매공원 정문    정기권  NaN  ~10대     1  27.47   \n",
              "2  2022-06-01     0   1349  1349. 월계2교 버스정류장 앞    정기권  NaN  ~10대     1  20.63   \n",
              "3  2022-06-01     0    750     750. 연의근린공원 건너편    정기권  NaN  ~10대     1  13.97   \n",
              "4  2022-06-01     0    755  755. 목동1단지아파트 상가 앞    정기권  NaN  ~10대     1  12.15   \n",
              "\n",
              "    탄소량  이동거리(M)  이용시간(분)  \n",
              "0  0.46  1999.70       10  \n",
              "1  0.23   991.00        9  \n",
              "2  0.20   868.17        3  \n",
              "3  0.13   560.00        4  \n",
              "4  0.14   590.00        3  "
            ],
            "text/html": [
              "\n",
              "  <div id=\"df-073b7fea-3cce-4152-9128-42c3f4a464e1\">\n",
              "    <div class=\"colab-df-container\">\n",
              "      <div>\n",
              "<style scoped>\n",
              "    .dataframe tbody tr th:only-of-type {\n",
              "        vertical-align: middle;\n",
              "    }\n",
              "\n",
              "    .dataframe tbody tr th {\n",
              "        vertical-align: top;\n",
              "    }\n",
              "\n",
              "    .dataframe thead th {\n",
              "        text-align: right;\n",
              "    }\n",
              "</style>\n",
              "<table border=\"1\" class=\"dataframe\">\n",
              "  <thead>\n",
              "    <tr style=\"text-align: right;\">\n",
              "      <th></th>\n",
              "      <th>대여일자</th>\n",
              "      <th>대여시간</th>\n",
              "      <th>대여소번호</th>\n",
              "      <th>대여소명</th>\n",
              "      <th>대여구분코드</th>\n",
              "      <th>성별</th>\n",
              "      <th>연령대코드</th>\n",
              "      <th>이용건수</th>\n",
              "      <th>운동량</th>\n",
              "      <th>탄소량</th>\n",
              "      <th>이동거리(M)</th>\n",
              "      <th>이용시간(분)</th>\n",
              "    </tr>\n",
              "  </thead>\n",
              "  <tbody>\n",
              "    <tr>\n",
              "      <th>0</th>\n",
              "      <td>2022-06-01</td>\n",
              "      <td>0</td>\n",
              "      <td>742</td>\n",
              "      <td>742. 등촌역 5번 출구 뒤</td>\n",
              "      <td>정기권</td>\n",
              "      <td>NaN</td>\n",
              "      <td>~10대</td>\n",
              "      <td>1</td>\n",
              "      <td>48.30</td>\n",
              "      <td>0.46</td>\n",
              "      <td>1999.70</td>\n",
              "      <td>10</td>\n",
              "    </tr>\n",
              "    <tr>\n",
              "      <th>1</th>\n",
              "      <td>2022-06-01</td>\n",
              "      <td>0</td>\n",
              "      <td>2059</td>\n",
              "      <td>2059. 보라매공원 정문</td>\n",
              "      <td>정기권</td>\n",
              "      <td>NaN</td>\n",
              "      <td>~10대</td>\n",
              "      <td>1</td>\n",
              "      <td>27.47</td>\n",
              "      <td>0.23</td>\n",
              "      <td>991.00</td>\n",
              "      <td>9</td>\n",
              "    </tr>\n",
              "    <tr>\n",
              "      <th>2</th>\n",
              "      <td>2022-06-01</td>\n",
              "      <td>0</td>\n",
              "      <td>1349</td>\n",
              "      <td>1349. 월계2교 버스정류장 앞</td>\n",
              "      <td>정기권</td>\n",
              "      <td>NaN</td>\n",
              "      <td>~10대</td>\n",
              "      <td>1</td>\n",
              "      <td>20.63</td>\n",
              "      <td>0.20</td>\n",
              "      <td>868.17</td>\n",
              "      <td>3</td>\n",
              "    </tr>\n",
              "    <tr>\n",
              "      <th>3</th>\n",
              "      <td>2022-06-01</td>\n",
              "      <td>0</td>\n",
              "      <td>750</td>\n",
              "      <td>750. 연의근린공원 건너편</td>\n",
              "      <td>정기권</td>\n",
              "      <td>NaN</td>\n",
              "      <td>~10대</td>\n",
              "      <td>1</td>\n",
              "      <td>13.97</td>\n",
              "      <td>0.13</td>\n",
              "      <td>560.00</td>\n",
              "      <td>4</td>\n",
              "    </tr>\n",
              "    <tr>\n",
              "      <th>4</th>\n",
              "      <td>2022-06-01</td>\n",
              "      <td>0</td>\n",
              "      <td>755</td>\n",
              "      <td>755. 목동1단지아파트 상가 앞</td>\n",
              "      <td>정기권</td>\n",
              "      <td>NaN</td>\n",
              "      <td>~10대</td>\n",
              "      <td>1</td>\n",
              "      <td>12.15</td>\n",
              "      <td>0.14</td>\n",
              "      <td>590.00</td>\n",
              "      <td>3</td>\n",
              "    </tr>\n",
              "  </tbody>\n",
              "</table>\n",
              "</div>\n",
              "      <button class=\"colab-df-convert\" onclick=\"convertToInteractive('df-073b7fea-3cce-4152-9128-42c3f4a464e1')\"\n",
              "              title=\"Convert this dataframe to an interactive table.\"\n",
              "              style=\"display:none;\">\n",
              "        \n",
              "  <svg xmlns=\"http://www.w3.org/2000/svg\" height=\"24px\"viewBox=\"0 0 24 24\"\n",
              "       width=\"24px\">\n",
              "    <path d=\"M0 0h24v24H0V0z\" fill=\"none\"/>\n",
              "    <path d=\"M18.56 5.44l.94 2.06.94-2.06 2.06-.94-2.06-.94-.94-2.06-.94 2.06-2.06.94zm-11 1L8.5 8.5l.94-2.06 2.06-.94-2.06-.94L8.5 2.5l-.94 2.06-2.06.94zm10 10l.94 2.06.94-2.06 2.06-.94-2.06-.94-.94-2.06-.94 2.06-2.06.94z\"/><path d=\"M17.41 7.96l-1.37-1.37c-.4-.4-.92-.59-1.43-.59-.52 0-1.04.2-1.43.59L10.3 9.45l-7.72 7.72c-.78.78-.78 2.05 0 2.83L4 21.41c.39.39.9.59 1.41.59.51 0 1.02-.2 1.41-.59l7.78-7.78 2.81-2.81c.8-.78.8-2.07 0-2.86zM5.41 20L4 18.59l7.72-7.72 1.47 1.35L5.41 20z\"/>\n",
              "  </svg>\n",
              "      </button>\n",
              "      \n",
              "  <style>\n",
              "    .colab-df-container {\n",
              "      display:flex;\n",
              "      flex-wrap:wrap;\n",
              "      gap: 12px;\n",
              "    }\n",
              "\n",
              "    .colab-df-convert {\n",
              "      background-color: #E8F0FE;\n",
              "      border: none;\n",
              "      border-radius: 50%;\n",
              "      cursor: pointer;\n",
              "      display: none;\n",
              "      fill: #1967D2;\n",
              "      height: 32px;\n",
              "      padding: 0 0 0 0;\n",
              "      width: 32px;\n",
              "    }\n",
              "\n",
              "    .colab-df-convert:hover {\n",
              "      background-color: #E2EBFA;\n",
              "      box-shadow: 0px 1px 2px rgba(60, 64, 67, 0.3), 0px 1px 3px 1px rgba(60, 64, 67, 0.15);\n",
              "      fill: #174EA6;\n",
              "    }\n",
              "\n",
              "    [theme=dark] .colab-df-convert {\n",
              "      background-color: #3B4455;\n",
              "      fill: #D2E3FC;\n",
              "    }\n",
              "\n",
              "    [theme=dark] .colab-df-convert:hover {\n",
              "      background-color: #434B5C;\n",
              "      box-shadow: 0px 1px 3px 1px rgba(0, 0, 0, 0.15);\n",
              "      filter: drop-shadow(0px 1px 2px rgba(0, 0, 0, 0.3));\n",
              "      fill: #FFFFFF;\n",
              "    }\n",
              "  </style>\n",
              "\n",
              "      <script>\n",
              "        const buttonEl =\n",
              "          document.querySelector('#df-073b7fea-3cce-4152-9128-42c3f4a464e1 button.colab-df-convert');\n",
              "        buttonEl.style.display =\n",
              "          google.colab.kernel.accessAllowed ? 'block' : 'none';\n",
              "\n",
              "        async function convertToInteractive(key) {\n",
              "          const element = document.querySelector('#df-073b7fea-3cce-4152-9128-42c3f4a464e1');\n",
              "          const dataTable =\n",
              "            await google.colab.kernel.invokeFunction('convertToInteractive',\n",
              "                                                     [key], {});\n",
              "          if (!dataTable) return;\n",
              "\n",
              "          const docLinkHtml = 'Like what you see? Visit the ' +\n",
              "            '<a target=\"_blank\" href=https://colab.research.google.com/notebooks/data_table.ipynb>data table notebook</a>'\n",
              "            + ' to learn more about interactive tables.';\n",
              "          element.innerHTML = '';\n",
              "          dataTable['output_type'] = 'display_data';\n",
              "          await google.colab.output.renderOutput(dataTable, element);\n",
              "          const docLink = document.createElement('div');\n",
              "          docLink.innerHTML = docLinkHtml;\n",
              "          element.appendChild(docLink);\n",
              "        }\n",
              "      </script>\n",
              "    </div>\n",
              "  </div>\n",
              "  "
            ]
          },
          "metadata": {},
          "execution_count": 7
        }
      ]
    },
    {
      "cell_type": "markdown",
      "source": [
        "6월과 9월 자료를 합친다"
      ],
      "metadata": {
        "id": "QfZLv96Rp1gd"
      }
    },
    {
      "cell_type": "code",
      "source": [
        "biketotal['연령대코드'].isna().sum()"
      ],
      "metadata": {
        "colab": {
          "base_uri": "https://localhost:8080/"
        },
        "id": "HcgoIce-qPcf",
        "outputId": "ef3b6b0d-8bca-4965-9ac6-7984604f41d9"
      },
      "execution_count": 8,
      "outputs": [
        {
          "output_type": "execute_result",
          "data": {
            "text/plain": [
              "0"
            ]
          },
          "metadata": {},
          "execution_count": 8
        }
      ]
    },
    {
      "cell_type": "markdown",
      "source": [
        "연령대 코드 분서하기전 연령대 코드에 결측치 있는 지 확인"
      ],
      "metadata": {
        "id": "FpE_2Xweq67W"
      }
    },
    {
      "cell_type": "code",
      "source": [
        "biketotal['연령대코드']=biketotal['연령대코드'].str.replace('~',\"\")\n",
        "biketotal.drop('탄소량',axis=1)\n",
        "biketotal.drop('운동량',axis=1)"
      ],
      "metadata": {
        "colab": {
          "base_uri": "https://localhost:8080/",
          "height": 423
        },
        "id": "UJCs4p1ZJAIb",
        "outputId": "c86b5816-ca2c-42fd-9638-09a38e7c80ff"
      },
      "execution_count": 9,
      "outputs": [
        {
          "output_type": "execute_result",
          "data": {
            "text/plain": [
              "               대여일자  대여시간  대여소번호                 대여소명 대여구분코드   성별 연령대코드  이용건수  \\\n",
              "0        2022-06-01     0    742     742. 등촌역 5번 출구 뒤    정기권  NaN   10대     1   \n",
              "1        2022-06-01     0   2059       2059. 보라매공원 정문    정기권  NaN   10대     1   \n",
              "2        2022-06-01     0   1349   1349. 월계2교 버스정류장 앞    정기권  NaN   10대     1   \n",
              "3        2022-06-01     0    750      750. 연의근린공원 건너편    정기권  NaN   10대     1   \n",
              "4        2022-06-01     0    755   755. 목동1단지아파트 상가 앞    정기권  NaN   10대     1   \n",
              "...             ...   ...    ...                  ...    ...  ...   ...   ...   \n",
              "7805007  2022-09-30    23   1911     1911. 구로디지털단지역 앞    정기권    M    기타     1   \n",
              "7805008  2022-09-30    23   2102        2102. 봉림교 교통섬    정기권    M    기타     1   \n",
              "7805009  2022-09-30    23   2337  2337. 대모산입구역 2번출구 앞    정기권    M    기타     1   \n",
              "7805010  2022-09-30    23   1414      1414. 사가정역 2번출구    정기권    M    기타     1   \n",
              "7805011  2022-09-30    23    502   502. 뚝섬유원지역 1번출구 앞    정기권    M    기타     1   \n",
              "\n",
              "          탄소량   이동거리(M)  이용시간(분)  \n",
              "0        0.46   1999.70       10  \n",
              "1        0.23    991.00        9  \n",
              "2        0.20    868.17        3  \n",
              "3        0.13    560.00        4  \n",
              "4        0.14    590.00        3  \n",
              "...       ...       ...      ...  \n",
              "7805007  0.53   2277.98       19  \n",
              "7805008  0.17    740.80        3  \n",
              "7805009  0.14    598.60        3  \n",
              "7805010  0.71   3070.00       19  \n",
              "7805011  3.01  12964.80       67  \n",
              "\n",
              "[7805012 rows x 11 columns]"
            ],
            "text/html": [
              "\n",
              "  <div id=\"df-23a058f5-c517-4eca-8b98-434bcff275ea\">\n",
              "    <div class=\"colab-df-container\">\n",
              "      <div>\n",
              "<style scoped>\n",
              "    .dataframe tbody tr th:only-of-type {\n",
              "        vertical-align: middle;\n",
              "    }\n",
              "\n",
              "    .dataframe tbody tr th {\n",
              "        vertical-align: top;\n",
              "    }\n",
              "\n",
              "    .dataframe thead th {\n",
              "        text-align: right;\n",
              "    }\n",
              "</style>\n",
              "<table border=\"1\" class=\"dataframe\">\n",
              "  <thead>\n",
              "    <tr style=\"text-align: right;\">\n",
              "      <th></th>\n",
              "      <th>대여일자</th>\n",
              "      <th>대여시간</th>\n",
              "      <th>대여소번호</th>\n",
              "      <th>대여소명</th>\n",
              "      <th>대여구분코드</th>\n",
              "      <th>성별</th>\n",
              "      <th>연령대코드</th>\n",
              "      <th>이용건수</th>\n",
              "      <th>탄소량</th>\n",
              "      <th>이동거리(M)</th>\n",
              "      <th>이용시간(분)</th>\n",
              "    </tr>\n",
              "  </thead>\n",
              "  <tbody>\n",
              "    <tr>\n",
              "      <th>0</th>\n",
              "      <td>2022-06-01</td>\n",
              "      <td>0</td>\n",
              "      <td>742</td>\n",
              "      <td>742. 등촌역 5번 출구 뒤</td>\n",
              "      <td>정기권</td>\n",
              "      <td>NaN</td>\n",
              "      <td>10대</td>\n",
              "      <td>1</td>\n",
              "      <td>0.46</td>\n",
              "      <td>1999.70</td>\n",
              "      <td>10</td>\n",
              "    </tr>\n",
              "    <tr>\n",
              "      <th>1</th>\n",
              "      <td>2022-06-01</td>\n",
              "      <td>0</td>\n",
              "      <td>2059</td>\n",
              "      <td>2059. 보라매공원 정문</td>\n",
              "      <td>정기권</td>\n",
              "      <td>NaN</td>\n",
              "      <td>10대</td>\n",
              "      <td>1</td>\n",
              "      <td>0.23</td>\n",
              "      <td>991.00</td>\n",
              "      <td>9</td>\n",
              "    </tr>\n",
              "    <tr>\n",
              "      <th>2</th>\n",
              "      <td>2022-06-01</td>\n",
              "      <td>0</td>\n",
              "      <td>1349</td>\n",
              "      <td>1349. 월계2교 버스정류장 앞</td>\n",
              "      <td>정기권</td>\n",
              "      <td>NaN</td>\n",
              "      <td>10대</td>\n",
              "      <td>1</td>\n",
              "      <td>0.20</td>\n",
              "      <td>868.17</td>\n",
              "      <td>3</td>\n",
              "    </tr>\n",
              "    <tr>\n",
              "      <th>3</th>\n",
              "      <td>2022-06-01</td>\n",
              "      <td>0</td>\n",
              "      <td>750</td>\n",
              "      <td>750. 연의근린공원 건너편</td>\n",
              "      <td>정기권</td>\n",
              "      <td>NaN</td>\n",
              "      <td>10대</td>\n",
              "      <td>1</td>\n",
              "      <td>0.13</td>\n",
              "      <td>560.00</td>\n",
              "      <td>4</td>\n",
              "    </tr>\n",
              "    <tr>\n",
              "      <th>4</th>\n",
              "      <td>2022-06-01</td>\n",
              "      <td>0</td>\n",
              "      <td>755</td>\n",
              "      <td>755. 목동1단지아파트 상가 앞</td>\n",
              "      <td>정기권</td>\n",
              "      <td>NaN</td>\n",
              "      <td>10대</td>\n",
              "      <td>1</td>\n",
              "      <td>0.14</td>\n",
              "      <td>590.00</td>\n",
              "      <td>3</td>\n",
              "    </tr>\n",
              "    <tr>\n",
              "      <th>...</th>\n",
              "      <td>...</td>\n",
              "      <td>...</td>\n",
              "      <td>...</td>\n",
              "      <td>...</td>\n",
              "      <td>...</td>\n",
              "      <td>...</td>\n",
              "      <td>...</td>\n",
              "      <td>...</td>\n",
              "      <td>...</td>\n",
              "      <td>...</td>\n",
              "      <td>...</td>\n",
              "    </tr>\n",
              "    <tr>\n",
              "      <th>7805007</th>\n",
              "      <td>2022-09-30</td>\n",
              "      <td>23</td>\n",
              "      <td>1911</td>\n",
              "      <td>1911. 구로디지털단지역 앞</td>\n",
              "      <td>정기권</td>\n",
              "      <td>M</td>\n",
              "      <td>기타</td>\n",
              "      <td>1</td>\n",
              "      <td>0.53</td>\n",
              "      <td>2277.98</td>\n",
              "      <td>19</td>\n",
              "    </tr>\n",
              "    <tr>\n",
              "      <th>7805008</th>\n",
              "      <td>2022-09-30</td>\n",
              "      <td>23</td>\n",
              "      <td>2102</td>\n",
              "      <td>2102. 봉림교 교통섬</td>\n",
              "      <td>정기권</td>\n",
              "      <td>M</td>\n",
              "      <td>기타</td>\n",
              "      <td>1</td>\n",
              "      <td>0.17</td>\n",
              "      <td>740.80</td>\n",
              "      <td>3</td>\n",
              "    </tr>\n",
              "    <tr>\n",
              "      <th>7805009</th>\n",
              "      <td>2022-09-30</td>\n",
              "      <td>23</td>\n",
              "      <td>2337</td>\n",
              "      <td>2337. 대모산입구역 2번출구 앞</td>\n",
              "      <td>정기권</td>\n",
              "      <td>M</td>\n",
              "      <td>기타</td>\n",
              "      <td>1</td>\n",
              "      <td>0.14</td>\n",
              "      <td>598.60</td>\n",
              "      <td>3</td>\n",
              "    </tr>\n",
              "    <tr>\n",
              "      <th>7805010</th>\n",
              "      <td>2022-09-30</td>\n",
              "      <td>23</td>\n",
              "      <td>1414</td>\n",
              "      <td>1414. 사가정역 2번출구</td>\n",
              "      <td>정기권</td>\n",
              "      <td>M</td>\n",
              "      <td>기타</td>\n",
              "      <td>1</td>\n",
              "      <td>0.71</td>\n",
              "      <td>3070.00</td>\n",
              "      <td>19</td>\n",
              "    </tr>\n",
              "    <tr>\n",
              "      <th>7805011</th>\n",
              "      <td>2022-09-30</td>\n",
              "      <td>23</td>\n",
              "      <td>502</td>\n",
              "      <td>502. 뚝섬유원지역 1번출구 앞</td>\n",
              "      <td>정기권</td>\n",
              "      <td>M</td>\n",
              "      <td>기타</td>\n",
              "      <td>1</td>\n",
              "      <td>3.01</td>\n",
              "      <td>12964.80</td>\n",
              "      <td>67</td>\n",
              "    </tr>\n",
              "  </tbody>\n",
              "</table>\n",
              "<p>7805012 rows × 11 columns</p>\n",
              "</div>\n",
              "      <button class=\"colab-df-convert\" onclick=\"convertToInteractive('df-23a058f5-c517-4eca-8b98-434bcff275ea')\"\n",
              "              title=\"Convert this dataframe to an interactive table.\"\n",
              "              style=\"display:none;\">\n",
              "        \n",
              "  <svg xmlns=\"http://www.w3.org/2000/svg\" height=\"24px\"viewBox=\"0 0 24 24\"\n",
              "       width=\"24px\">\n",
              "    <path d=\"M0 0h24v24H0V0z\" fill=\"none\"/>\n",
              "    <path d=\"M18.56 5.44l.94 2.06.94-2.06 2.06-.94-2.06-.94-.94-2.06-.94 2.06-2.06.94zm-11 1L8.5 8.5l.94-2.06 2.06-.94-2.06-.94L8.5 2.5l-.94 2.06-2.06.94zm10 10l.94 2.06.94-2.06 2.06-.94-2.06-.94-.94-2.06-.94 2.06-2.06.94z\"/><path d=\"M17.41 7.96l-1.37-1.37c-.4-.4-.92-.59-1.43-.59-.52 0-1.04.2-1.43.59L10.3 9.45l-7.72 7.72c-.78.78-.78 2.05 0 2.83L4 21.41c.39.39.9.59 1.41.59.51 0 1.02-.2 1.41-.59l7.78-7.78 2.81-2.81c.8-.78.8-2.07 0-2.86zM5.41 20L4 18.59l7.72-7.72 1.47 1.35L5.41 20z\"/>\n",
              "  </svg>\n",
              "      </button>\n",
              "      \n",
              "  <style>\n",
              "    .colab-df-container {\n",
              "      display:flex;\n",
              "      flex-wrap:wrap;\n",
              "      gap: 12px;\n",
              "    }\n",
              "\n",
              "    .colab-df-convert {\n",
              "      background-color: #E8F0FE;\n",
              "      border: none;\n",
              "      border-radius: 50%;\n",
              "      cursor: pointer;\n",
              "      display: none;\n",
              "      fill: #1967D2;\n",
              "      height: 32px;\n",
              "      padding: 0 0 0 0;\n",
              "      width: 32px;\n",
              "    }\n",
              "\n",
              "    .colab-df-convert:hover {\n",
              "      background-color: #E2EBFA;\n",
              "      box-shadow: 0px 1px 2px rgba(60, 64, 67, 0.3), 0px 1px 3px 1px rgba(60, 64, 67, 0.15);\n",
              "      fill: #174EA6;\n",
              "    }\n",
              "\n",
              "    [theme=dark] .colab-df-convert {\n",
              "      background-color: #3B4455;\n",
              "      fill: #D2E3FC;\n",
              "    }\n",
              "\n",
              "    [theme=dark] .colab-df-convert:hover {\n",
              "      background-color: #434B5C;\n",
              "      box-shadow: 0px 1px 3px 1px rgba(0, 0, 0, 0.15);\n",
              "      filter: drop-shadow(0px 1px 2px rgba(0, 0, 0, 0.3));\n",
              "      fill: #FFFFFF;\n",
              "    }\n",
              "  </style>\n",
              "\n",
              "      <script>\n",
              "        const buttonEl =\n",
              "          document.querySelector('#df-23a058f5-c517-4eca-8b98-434bcff275ea button.colab-df-convert');\n",
              "        buttonEl.style.display =\n",
              "          google.colab.kernel.accessAllowed ? 'block' : 'none';\n",
              "\n",
              "        async function convertToInteractive(key) {\n",
              "          const element = document.querySelector('#df-23a058f5-c517-4eca-8b98-434bcff275ea');\n",
              "          const dataTable =\n",
              "            await google.colab.kernel.invokeFunction('convertToInteractive',\n",
              "                                                     [key], {});\n",
              "          if (!dataTable) return;\n",
              "\n",
              "          const docLinkHtml = 'Like what you see? Visit the ' +\n",
              "            '<a target=\"_blank\" href=https://colab.research.google.com/notebooks/data_table.ipynb>data table notebook</a>'\n",
              "            + ' to learn more about interactive tables.';\n",
              "          element.innerHTML = '';\n",
              "          dataTable['output_type'] = 'display_data';\n",
              "          await google.colab.output.renderOutput(dataTable, element);\n",
              "          const docLink = document.createElement('div');\n",
              "          docLink.innerHTML = docLinkHtml;\n",
              "          element.appendChild(docLink);\n",
              "        }\n",
              "      </script>\n",
              "    </div>\n",
              "  </div>\n",
              "  "
            ]
          },
          "metadata": {},
          "execution_count": 9
        }
      ]
    },
    {
      "cell_type": "markdown",
      "source": [
        "쓰지 않을 운동량과 탄소량 정보는 제거 "
      ],
      "metadata": {
        "id": "TCYkrNDuq6PC"
      }
    },
    {
      "cell_type": "markdown",
      "source": [
        "# 연령대 분석"
      ],
      "metadata": {
        "id": "525FnV2bKaWr"
      }
    },
    {
      "cell_type": "code",
      "source": [
        "bike1 = biketotal.copy()\n",
        "age_group=bike1.groupby(by=[\"연령대코드\"],as_index=False)\n",
        "age_sum=age_group[\"이용건수\"].sum()\n",
        "plt.figure(figsize=(10,10))\n",
        "plt.title(\"연령대별 따릉이 사용건수\")\n",
        "plt.bar(age_sum['연령대코드'],age_sum['이용건수'])\n",
        "plt.show()\n",
        "     "
      ],
      "metadata": {
        "colab": {
          "base_uri": "https://localhost:8080/",
          "height": 606
        },
        "id": "jVpcjuNlJUDr",
        "outputId": "b6274bab-d2bd-4120-add3-99d278843594"
      },
      "execution_count": 10,
      "outputs": [
        {
          "output_type": "display_data",
          "data": {
            "text/plain": [
              "<Figure size 720x720 with 1 Axes>"
            ],
            "image/png": "[encoded data removed]"
          },
          "metadata": {
            "needs_background": "light"
          }
        }
      ]
    },
    {
      "cell_type": "markdown",
      "source": [
        "연령대 코드로 그룹해서 각 그룹에 들어있는 이용건수를 더해줘 \n",
        "연령대별 이용건수 그래프로 표현한다. "
      ],
      "metadata": {
        "id": "SD0BsR-wrLug"
      }
    },
    {
      "cell_type": "code",
      "source": [
        "plt.pie(age_sum['이용건수'],labels = age_sum['연령대코드'],autopct='%.1f%%')\n",
        "plt.title('연령대별 이용비율')"
      ],
      "metadata": {
        "colab": {
          "base_uri": "https://localhost:8080/",
          "height": 281
        },
        "id": "yX-bE2OIwTzu",
        "outputId": "9012f960-642d-43ee-c130-3707f758d3f1"
      },
      "execution_count": 11,
      "outputs": [
        {
          "output_type": "execute_result",
          "data": {
            "text/plain": [
              "Text(0.5, 1.0, '연령대별 이용비율')"
            ]
          },
          "metadata": {},
          "execution_count": 11
        },
        {
          "output_type": "display_data",
          "data": {
            "text/plain": [
              "<Figure size 432x288 with 1 Axes>"
            ],
            "image/png": "[encoded data removed]"
          },
          "metadata": {}
        }
      ]
    },
    {
      "cell_type": "markdown",
      "source": [
        "공공자전거를 주로 이용하는 연령대는 20대임을 알 수 있다. \n",
        "즉 광고 타겟을 20대로 잡는 것이 효과적임을 알 수 있다. "
      ],
      "metadata": {
        "id": "MwadHnI1Kfd1"
      }
    },
    {
      "cell_type": "code",
      "source": [
        "bike1.groupby('연령대코드').agg({'이동거리(M)':['mean'],'이용시간(분)':['mean']})"
      ],
      "metadata": {
        "colab": {
          "base_uri": "https://localhost:8080/",
          "height": 363
        },
        "id": "kE3SyWEoKG6V",
        "outputId": "09f58bf6-4808-49a9-fb87-a75561c2b99c"
      },
      "execution_count": 12,
      "outputs": [
        {
          "output_type": "execute_result",
          "data": {
            "text/plain": [
              "           이동거리(M)    이용시간(분)\n",
              "              mean       mean\n",
              "연령대코드                        \n",
              "10대    2638.373575  23.322616\n",
              "20대    3141.886261  26.095471\n",
              "30대    3147.097797  26.334134\n",
              "40대    3309.689657  28.252879\n",
              "50대    3284.378336  27.555946\n",
              "60대    3192.916976  28.599670\n",
              "70대이상  3041.438970  30.464029\n",
              "기타     3117.022088  27.294216"
            ],
            "text/html": [
              "\n",
              "  <div id=\"df-a0f013a9-4150-4601-b642-de9fb25227c8\">\n",
              "    <div class=\"colab-df-container\">\n",
              "      <div>\n",
              "<style scoped>\n",
              "    .dataframe tbody tr th:only-of-type {\n",
              "        vertical-align: middle;\n",
              "    }\n",
              "\n",
              "    .dataframe tbody tr th {\n",
              "        vertical-align: top;\n",
              "    }\n",
              "\n",
              "    .dataframe thead tr th {\n",
              "        text-align: left;\n",
              "    }\n",
              "\n",
              "    .dataframe thead tr:last-of-type th {\n",
              "        text-align: right;\n",
              "    }\n",
              "</style>\n",
              "<table border=\"1\" class=\"dataframe\">\n",
              "  <thead>\n",
              "    <tr>\n",
              "      <th></th>\n",
              "      <th>이동거리(M)</th>\n",
              "      <th>이용시간(분)</th>\n",
              "    </tr>\n",
              "    <tr>\n",
              "      <th></th>\n",
              "      <th>mean</th>\n",
              "      <th>mean</th>\n",
              "    </tr>\n",
              "    <tr>\n",
              "      <th>연령대코드</th>\n",
              "      <th></th>\n",
              "      <th></th>\n",
              "    </tr>\n",
              "  </thead>\n",
              "  <tbody>\n",
              "    <tr>\n",
              "      <th>10대</th>\n",
              "      <td>2638.373575</td>\n",
              "      <td>23.322616</td>\n",
              "    </tr>\n",
              "    <tr>\n",
              "      <th>20대</th>\n",
              "      <td>3141.886261</td>\n",
              "      <td>26.095471</td>\n",
              "    </tr>\n",
              "    <tr>\n",
              "      <th>30대</th>\n",
              "      <td>3147.097797</td>\n",
              "      <td>26.334134</td>\n",
              "    </tr>\n",
              "    <tr>\n",
              "      <th>40대</th>\n",
              "      <td>3309.689657</td>\n",
              "      <td>28.252879</td>\n",
              "    </tr>\n",
              "    <tr>\n",
              "      <th>50대</th>\n",
              "      <td>3284.378336</td>\n",
              "      <td>27.555946</td>\n",
              "    </tr>\n",
              "    <tr>\n",
              "      <th>60대</th>\n",
              "      <td>3192.916976</td>\n",
              "      <td>28.599670</td>\n",
              "    </tr>\n",
              "    <tr>\n",
              "      <th>70대이상</th>\n",
              "      <td>3041.438970</td>\n",
              "      <td>30.464029</td>\n",
              "    </tr>\n",
              "    <tr>\n",
              "      <th>기타</th>\n",
              "      <td>3117.022088</td>\n",
              "      <td>27.294216</td>\n",
              "    </tr>\n",
              "  </tbody>\n",
              "</table>\n",
              "</div>\n",
              "      <button class=\"colab-df-convert\" onclick=\"convertToInteractive('df-a0f013a9-4150-4601-b642-de9fb25227c8')\"\n",
              "              title=\"Convert this dataframe to an interactive table.\"\n",
              "              style=\"display:none;\">\n",
              "        \n",
              "  <svg xmlns=\"http://www.w3.org/2000/svg\" height=\"24px\"viewBox=\"0 0 24 24\"\n",
              "       width=\"24px\">\n",
              "    <path d=\"M0 0h24v24H0V0z\" fill=\"none\"/>\n",
              "    <path d=\"M18.56 5.44l.94 2.06.94-2.06 2.06-.94-2.06-.94-.94-2.06-.94 2.06-2.06.94zm-11 1L8.5 8.5l.94-2.06 2.06-.94-2.06-.94L8.5 2.5l-.94 2.06-2.06.94zm10 10l.94 2.06.94-2.06 2.06-.94-2.06-.94-.94-2.06-.94 2.06-2.06.94z\"/><path d=\"M17.41 7.96l-1.37-1.37c-.4-.4-.92-.59-1.43-.59-.52 0-1.04.2-1.43.59L10.3 9.45l-7.72 7.72c-.78.78-.78 2.05 0 2.83L4 21.41c.39.39.9.59 1.41.59.51 0 1.02-.2 1.41-.59l7.78-7.78 2.81-2.81c.8-.78.8-2.07 0-2.86zM5.41 20L4 18.59l7.72-7.72 1.47 1.35L5.41 20z\"/>\n",
              "  </svg>\n",
              "      </button>\n",
              "      \n",
              "  <style>\n",
              "    .colab-df-container {\n",
              "      display:flex;\n",
              "      flex-wrap:wrap;\n",
              "      gap: 12px;\n",
              "    }\n",
              "\n",
              "    .colab-df-convert {\n",
              "      background-color: #E8F0FE;\n",
              "      border: none;\n",
              "      border-radius: 50%;\n",
              "      cursor: pointer;\n",
              "      display: none;\n",
              "      fill: #1967D2;\n",
              "      height: 32px;\n",
              "      padding: 0 0 0 0;\n",
              "      width: 32px;\n",
              "    }\n",
              "\n",
              "    .colab-df-convert:hover {\n",
              "      background-color: #E2EBFA;\n",
              "      box-shadow: 0px 1px 2px rgba(60, 64, 67, 0.3), 0px 1px 3px 1px rgba(60, 64, 67, 0.15);\n",
              "      fill: #174EA6;\n",
              "    }\n",
              "\n",
              "    [theme=dark] .colab-df-convert {\n",
              "      background-color: #3B4455;\n",
              "      fill: #D2E3FC;\n",
              "    }\n",
              "\n",
              "    [theme=dark] .colab-df-convert:hover {\n",
              "      background-color: #434B5C;\n",
              "      box-shadow: 0px 1px 3px 1px rgba(0, 0, 0, 0.15);\n",
              "      filter: drop-shadow(0px 1px 2px rgba(0, 0, 0, 0.3));\n",
              "      fill: #FFFFFF;\n",
              "    }\n",
              "  </style>\n",
              "\n",
              "      <script>\n",
              "        const buttonEl =\n",
              "          document.querySelector('#df-a0f013a9-4150-4601-b642-de9fb25227c8 button.colab-df-convert');\n",
              "        buttonEl.style.display =\n",
              "          google.colab.kernel.accessAllowed ? 'block' : 'none';\n",
              "\n",
              "        async function convertToInteractive(key) {\n",
              "          const element = document.querySelector('#df-a0f013a9-4150-4601-b642-de9fb25227c8');\n",
              "          const dataTable =\n",
              "            await google.colab.kernel.invokeFunction('convertToInteractive',\n",
              "                                                     [key], {});\n",
              "          if (!dataTable) return;\n",
              "\n",
              "          const docLinkHtml = 'Like what you see? Visit the ' +\n",
              "            '<a target=\"_blank\" href=https://colab.research.google.com/notebooks/data_table.ipynb>data table notebook</a>'\n",
              "            + ' to learn more about interactive tables.';\n",
              "          element.innerHTML = '';\n",
              "          dataTable['output_type'] = 'display_data';\n",
              "          await google.colab.output.renderOutput(dataTable, element);\n",
              "          const docLink = document.createElement('div');\n",
              "          docLink.innerHTML = docLinkHtml;\n",
              "          element.appendChild(docLink);\n",
              "        }\n",
              "      </script>\n",
              "    </div>\n",
              "  </div>\n",
              "  "
            ]
          },
          "metadata": {},
          "execution_count": 12
        }
      ]
    },
    {
      "cell_type": "markdown",
      "source": [
        "연령대 코드별 이동거리와 이용시간의 평균을 본다. "
      ],
      "metadata": {
        "id": "YPKaVfdLrUrT"
      }
    },
    {
      "cell_type": "code",
      "source": [
        "data_2 = bike1[(bike1['연령대코드'] != '10대') & (bike1['연령대코드'] != '60대') & (bike1['연령대코드'] != '70대')]\n",
        "plt.figure(figsize=(15, 5))\n",
        "sns.boxplot(data = data_2, x = '연령대코드', y = '이동거리(M)', order = ['20대', '30대', '40대', '50대'])\n",
        "plt.ylim([0, 6000]);\n",
        "plt.show()"
      ],
      "metadata": {
        "colab": {
          "base_uri": "https://localhost:8080/",
          "height": 337
        },
        "id": "L4jakZ5rKNBw",
        "outputId": "68aec2a2-7bd5-4a31-f9fe-778f09473281"
      },
      "execution_count": 13,
      "outputs": [
        {
          "output_type": "display_data",
          "data": {
            "text/plain": [
              "<Figure size 1080x360 with 1 Axes>"
            ],
            "image/png": "[encoded data removed]"
          },
          "metadata": {
            "needs_background": "light"
          }
        }
      ]
    },
    {
      "cell_type": "markdown",
      "source": [
        "평균적으로 이용객들은 3km 거리를 움직이는 것을 알 수 있다.\n",
        "따라서 이용객이 많은 정거장 3km 주변 정거장에 광고를 붙이면 효율적일 것이다. "
      ],
      "metadata": {
        "id": "79hqCcFcKsX9"
      }
    },
    {
      "cell_type": "code",
      "source": [
        "df3=bike1.groupby(['연령대코드','대여구분코드'],as_index=False)['이용건수'].sum()\n",
        "plt.figure(figsize=(10,10))\n",
        "sns.barplot(x='연령대코드', y='이용건수', hue='대여구분코드',data=df3 )"
      ],
      "metadata": {
        "colab": {
          "base_uri": "https://localhost:8080/",
          "height": 633
        },
        "id": "HD5g4uNtP2kG",
        "outputId": "57544994-45d7-4c07-e6e1-0168a46eb389"
      },
      "execution_count": 14,
      "outputs": [
        {
          "output_type": "execute_result",
          "data": {
            "text/plain": [
              "<matplotlib.axes._subplots.AxesSubplot at 0x7f4cf09dcfd0>"
            ]
          },
          "metadata": {},
          "execution_count": 14
        },
        {
          "output_type": "display_data",
          "data": {
            "text/plain": [
              "<Figure size 720x720 with 1 Axes>"
            ],
            "image/png": "[encoded data removed]"
          },
          "metadata": {
            "needs_background": "light"
          }
        }
      ]
    },
    {
      "cell_type": "markdown",
      "source": [
        "모든 연령에서 정기권 구메가 많은 것을 볼 수 있다.\n",
        "즉 앱에서 정기권 구매시 광고시청하면 요금 할인을 해준다면 광고 노출을 늘릴 수 잇다. "
      ],
      "metadata": {
        "id": "hbpGbQYNQCT5"
      }
    },
    {
      "cell_type": "markdown",
      "source": [
        "# 성별 분석"
      ],
      "metadata": {
        "id": "5O6_Bx1DM18S"
      }
    },
    {
      "cell_type": "code",
      "source": [
        "biketotal['성별'].isna().sum()"
      ],
      "metadata": {
        "colab": {
          "base_uri": "https://localhost:8080/"
        },
        "id": "Aoll64oordrr",
        "outputId": "7945222b-a261-4493-a8a2-5036ba4c8f1c"
      },
      "execution_count": 15,
      "outputs": [
        {
          "output_type": "execute_result",
          "data": {
            "text/plain": [
              "2623952"
            ]
          },
          "metadata": {},
          "execution_count": 15
        }
      ]
    },
    {
      "cell_type": "markdown",
      "source": [
        "성별로 분석하기전에 결측치 확인"
      ],
      "metadata": {
        "id": "C0hwUON-rsve"
      }
    },
    {
      "cell_type": "code",
      "source": [
        "bike2=biketotal.copy()\n",
        "bike2.dropna(subset=['성별'],inplace=True)\n",
        "bike2['성별']=bike2['성별'].str.replace('f','F')\n",
        "bike2['성별']=bike2['성별'].str.replace('m','M')"
      ],
      "metadata": {
        "id": "qd-B8aqNM6YN"
      },
      "execution_count": 16,
      "outputs": []
    },
    {
      "cell_type": "markdown",
      "source": [
        "dropna()함수를 통해 결측치를 제거한다. "
      ],
      "metadata": {
        "id": "gndatyQxryav"
      }
    },
    {
      "cell_type": "code",
      "source": [
        "bike2.groupby('성별').agg({'이동거리(M)':['mean'],'이용시간(분)':['mean']})"
      ],
      "metadata": {
        "colab": {
          "base_uri": "https://localhost:8080/",
          "height": 175
        },
        "id": "1bQ0RBxgNt7i",
        "outputId": "a3e3b0a5-b514-4e1c-dcd0-7bb7eb9e1b5d"
      },
      "execution_count": 17,
      "outputs": [
        {
          "output_type": "execute_result",
          "data": {
            "text/plain": [
              "        이동거리(M)    이용시간(분)\n",
              "           mean       mean\n",
              "성별                        \n",
              "F   3176.220528  28.098729\n",
              "M   3075.372329  25.203807"
            ],
            "text/html": [
              "\n",
              "  <div id=\"df-92e7819b-3f27-4dc9-a2af-200a711bab56\">\n",
              "    <div class=\"colab-df-container\">\n",
              "      <div>\n",
              "<style scoped>\n",
              "    .dataframe tbody tr th:only-of-type {\n",
              "        vertical-align: middle;\n",
              "    }\n",
              "\n",
              "    .dataframe tbody tr th {\n",
              "        vertical-align: top;\n",
              "    }\n",
              "\n",
              "    .dataframe thead tr th {\n",
              "        text-align: left;\n",
              "    }\n",
              "\n",
              "    .dataframe thead tr:last-of-type th {\n",
              "        text-align: right;\n",
              "    }\n",
              "</style>\n",
              "<table border=\"1\" class=\"dataframe\">\n",
              "  <thead>\n",
              "    <tr>\n",
              "      <th></th>\n",
              "      <th>이동거리(M)</th>\n",
              "      <th>이용시간(분)</th>\n",
              "    </tr>\n",
              "    <tr>\n",
              "      <th></th>\n",
              "      <th>mean</th>\n",
              "      <th>mean</th>\n",
              "    </tr>\n",
              "    <tr>\n",
              "      <th>성별</th>\n",
              "      <th></th>\n",
              "      <th></th>\n",
              "    </tr>\n",
              "  </thead>\n",
              "  <tbody>\n",
              "    <tr>\n",
              "      <th>F</th>\n",
              "      <td>3176.220528</td>\n",
              "      <td>28.098729</td>\n",
              "    </tr>\n",
              "    <tr>\n",
              "      <th>M</th>\n",
              "      <td>3075.372329</td>\n",
              "      <td>25.203807</td>\n",
              "    </tr>\n",
              "  </tbody>\n",
              "</table>\n",
              "</div>\n",
              "      <button class=\"colab-df-convert\" onclick=\"convertToInteractive('df-92e7819b-3f27-4dc9-a2af-200a711bab56')\"\n",
              "              title=\"Convert this dataframe to an interactive table.\"\n",
              "              style=\"display:none;\">\n",
              "        \n",
              "  <svg xmlns=\"http://www.w3.org/2000/svg\" height=\"24px\"viewBox=\"0 0 24 24\"\n",
              "       width=\"24px\">\n",
              "    <path d=\"M0 0h24v24H0V0z\" fill=\"none\"/>\n",
              "    <path d=\"M18.56 5.44l.94 2.06.94-2.06 2.06-.94-2.06-.94-.94-2.06-.94 2.06-2.06.94zm-11 1L8.5 8.5l.94-2.06 2.06-.94-2.06-.94L8.5 2.5l-.94 2.06-2.06.94zm10 10l.94 2.06.94-2.06 2.06-.94-2.06-.94-.94-2.06-.94 2.06-2.06.94z\"/><path d=\"M17.41 7.96l-1.37-1.37c-.4-.4-.92-.59-1.43-.59-.52 0-1.04.2-1.43.59L10.3 9.45l-7.72 7.72c-.78.78-.78 2.05 0 2.83L4 21.41c.39.39.9.59 1.41.59.51 0 1.02-.2 1.41-.59l7.78-7.78 2.81-2.81c.8-.78.8-2.07 0-2.86zM5.41 20L4 18.59l7.72-7.72 1.47 1.35L5.41 20z\"/>\n",
              "  </svg>\n",
              "      </button>\n",
              "      \n",
              "  <style>\n",
              "    .colab-df-container {\n",
              "      display:flex;\n",
              "      flex-wrap:wrap;\n",
              "      gap: 12px;\n",
              "    }\n",
              "\n",
              "    .colab-df-convert {\n",
              "      background-color: #E8F0FE;\n",
              "      border: none;\n",
              "      border-radius: 50%;\n",
              "      cursor: pointer;\n",
              "      display: none;\n",
              "      fill: #1967D2;\n",
              "      height: 32px;\n",
              "      padding: 0 0 0 0;\n",
              "      width: 32px;\n",
              "    }\n",
              "\n",
              "    .colab-df-convert:hover {\n",
              "      background-color: #E2EBFA;\n",
              "      box-shadow: 0px 1px 2px rgba(60, 64, 67, 0.3), 0px 1px 3px 1px rgba(60, 64, 67, 0.15);\n",
              "      fill: #174EA6;\n",
              "    }\n",
              "\n",
              "    [theme=dark] .colab-df-convert {\n",
              "      background-color: #3B4455;\n",
              "      fill: #D2E3FC;\n",
              "    }\n",
              "\n",
              "    [theme=dark] .colab-df-convert:hover {\n",
              "      background-color: #434B5C;\n",
              "      box-shadow: 0px 1px 3px 1px rgba(0, 0, 0, 0.15);\n",
              "      filter: drop-shadow(0px 1px 2px rgba(0, 0, 0, 0.3));\n",
              "      fill: #FFFFFF;\n",
              "    }\n",
              "  </style>\n",
              "\n",
              "      <script>\n",
              "        const buttonEl =\n",
              "          document.querySelector('#df-92e7819b-3f27-4dc9-a2af-200a711bab56 button.colab-df-convert');\n",
              "        buttonEl.style.display =\n",
              "          google.colab.kernel.accessAllowed ? 'block' : 'none';\n",
              "\n",
              "        async function convertToInteractive(key) {\n",
              "          const element = document.querySelector('#df-92e7819b-3f27-4dc9-a2af-200a711bab56');\n",
              "          const dataTable =\n",
              "            await google.colab.kernel.invokeFunction('convertToInteractive',\n",
              "                                                     [key], {});\n",
              "          if (!dataTable) return;\n",
              "\n",
              "          const docLinkHtml = 'Like what you see? Visit the ' +\n",
              "            '<a target=\"_blank\" href=https://colab.research.google.com/notebooks/data_table.ipynb>data table notebook</a>'\n",
              "            + ' to learn more about interactive tables.';\n",
              "          element.innerHTML = '';\n",
              "          dataTable['output_type'] = 'display_data';\n",
              "          await google.colab.output.renderOutput(dataTable, element);\n",
              "          const docLink = document.createElement('div');\n",
              "          docLink.innerHTML = docLinkHtml;\n",
              "          element.appendChild(docLink);\n",
              "        }\n",
              "      </script>\n",
              "    </div>\n",
              "  </div>\n",
              "  "
            ]
          },
          "metadata": {},
          "execution_count": 17
        }
      ]
    },
    {
      "cell_type": "markdown",
      "source": [
        "성별로 나누어 봐도 평균적으로 3km 움직이므로 가장 유동인구가 많은 정류소 주변 3km 정류소에 광고를 부착한다면 효과적이다.\n",
        "\n",
        "\n"
      ],
      "metadata": {
        "id": "jOmKxBqKOfTb"
      }
    },
    {
      "cell_type": "code",
      "source": [
        "df1=bike2.groupby(['연령대코드','성별'],as_index=False)['이용건수'].sum()\n",
        "df1"
      ],
      "metadata": {
        "colab": {
          "base_uri": "https://localhost:8080/",
          "height": 551
        },
        "id": "ttmlOSO5S2jK",
        "outputId": "5f9aecfe-dfea-428c-cc1f-32aa554467a6"
      },
      "execution_count": 18,
      "outputs": [
        {
          "output_type": "execute_result",
          "data": {
            "text/plain": [
              "    연령대코드 성별     이용건수\n",
              "0     10대  F   144878\n",
              "1     10대  M   345966\n",
              "2     20대  F   869522\n",
              "3     20대  M  1005467\n",
              "4     30대  F   551752\n",
              "5     30대  M   836024\n",
              "6     40대  F   310070\n",
              "7     40대  M   541402\n",
              "8     50대  F   192734\n",
              "9     50대  M   331741\n",
              "10    60대  F    41238\n",
              "11    60대  M   119832\n",
              "12  70대이상  F     7131\n",
              "13  70대이상  M    17069\n",
              "14     기타  F   252573\n",
              "15     기타  M   360110"
            ],
            "text/html": [
              "\n",
              "  <div id=\"df-733c48c0-73e8-4eed-91e2-e7d2b4dab4a1\">\n",
              "    <div class=\"colab-df-container\">\n",
              "      <div>\n",
              "<style scoped>\n",
              "    .dataframe tbody tr th:only-of-type {\n",
              "        vertical-align: middle;\n",
              "    }\n",
              "\n",
              "    .dataframe tbody tr th {\n",
              "        vertical-align: top;\n",
              "    }\n",
              "\n",
              "    .dataframe thead th {\n",
              "        text-align: right;\n",
              "    }\n",
              "</style>\n",
              "<table border=\"1\" class=\"dataframe\">\n",
              "  <thead>\n",
              "    <tr style=\"text-align: right;\">\n",
              "      <th></th>\n",
              "      <th>연령대코드</th>\n",
              "      <th>성별</th>\n",
              "      <th>이용건수</th>\n",
              "    </tr>\n",
              "  </thead>\n",
              "  <tbody>\n",
              "    <tr>\n",
              "      <th>0</th>\n",
              "      <td>10대</td>\n",
              "      <td>F</td>\n",
              "      <td>144878</td>\n",
              "    </tr>\n",
              "    <tr>\n",
              "      <th>1</th>\n",
              "      <td>10대</td>\n",
              "      <td>M</td>\n",
              "      <td>345966</td>\n",
              "    </tr>\n",
              "    <tr>\n",
              "      <th>2</th>\n",
              "      <td>20대</td>\n",
              "      <td>F</td>\n",
              "      <td>869522</td>\n",
              "    </tr>\n",
              "    <tr>\n",
              "      <th>3</th>\n",
              "      <td>20대</td>\n",
              "      <td>M</td>\n",
              "      <td>1005467</td>\n",
              "    </tr>\n",
              "    <tr>\n",
              "      <th>4</th>\n",
              "      <td>30대</td>\n",
              "      <td>F</td>\n",
              "      <td>551752</td>\n",
              "    </tr>\n",
              "    <tr>\n",
              "      <th>5</th>\n",
              "      <td>30대</td>\n",
              "      <td>M</td>\n",
              "      <td>836024</td>\n",
              "    </tr>\n",
              "    <tr>\n",
              "      <th>6</th>\n",
              "      <td>40대</td>\n",
              "      <td>F</td>\n",
              "      <td>310070</td>\n",
              "    </tr>\n",
              "    <tr>\n",
              "      <th>7</th>\n",
              "      <td>40대</td>\n",
              "      <td>M</td>\n",
              "      <td>541402</td>\n",
              "    </tr>\n",
              "    <tr>\n",
              "      <th>8</th>\n",
              "      <td>50대</td>\n",
              "      <td>F</td>\n",
              "      <td>192734</td>\n",
              "    </tr>\n",
              "    <tr>\n",
              "      <th>9</th>\n",
              "      <td>50대</td>\n",
              "      <td>M</td>\n",
              "      <td>331741</td>\n",
              "    </tr>\n",
              "    <tr>\n",
              "      <th>10</th>\n",
              "      <td>60대</td>\n",
              "      <td>F</td>\n",
              "      <td>41238</td>\n",
              "    </tr>\n",
              "    <tr>\n",
              "      <th>11</th>\n",
              "      <td>60대</td>\n",
              "      <td>M</td>\n",
              "      <td>119832</td>\n",
              "    </tr>\n",
              "    <tr>\n",
              "      <th>12</th>\n",
              "      <td>70대이상</td>\n",
              "      <td>F</td>\n",
              "      <td>7131</td>\n",
              "    </tr>\n",
              "    <tr>\n",
              "      <th>13</th>\n",
              "      <td>70대이상</td>\n",
              "      <td>M</td>\n",
              "      <td>17069</td>\n",
              "    </tr>\n",
              "    <tr>\n",
              "      <th>14</th>\n",
              "      <td>기타</td>\n",
              "      <td>F</td>\n",
              "      <td>252573</td>\n",
              "    </tr>\n",
              "    <tr>\n",
              "      <th>15</th>\n",
              "      <td>기타</td>\n",
              "      <td>M</td>\n",
              "      <td>360110</td>\n",
              "    </tr>\n",
              "  </tbody>\n",
              "</table>\n",
              "</div>\n",
              "      <button class=\"colab-df-convert\" onclick=\"convertToInteractive('df-733c48c0-73e8-4eed-91e2-e7d2b4dab4a1')\"\n",
              "              title=\"Convert this dataframe to an interactive table.\"\n",
              "              style=\"display:none;\">\n",
              "        \n",
              "  <svg xmlns=\"http://www.w3.org/2000/svg\" height=\"24px\"viewBox=\"0 0 24 24\"\n",
              "       width=\"24px\">\n",
              "    <path d=\"M0 0h24v24H0V0z\" fill=\"none\"/>\n",
              "    <path d=\"M18.56 5.44l.94 2.06.94-2.06 2.06-.94-2.06-.94-.94-2.06-.94 2.06-2.06.94zm-11 1L8.5 8.5l.94-2.06 2.06-.94-2.06-.94L8.5 2.5l-.94 2.06-2.06.94zm10 10l.94 2.06.94-2.06 2.06-.94-2.06-.94-.94-2.06-.94 2.06-2.06.94z\"/><path d=\"M17.41 7.96l-1.37-1.37c-.4-.4-.92-.59-1.43-.59-.52 0-1.04.2-1.43.59L10.3 9.45l-7.72 7.72c-.78.78-.78 2.05 0 2.83L4 21.41c.39.39.9.59 1.41.59.51 0 1.02-.2 1.41-.59l7.78-7.78 2.81-2.81c.8-.78.8-2.07 0-2.86zM5.41 20L4 18.59l7.72-7.72 1.47 1.35L5.41 20z\"/>\n",
              "  </svg>\n",
              "      </button>\n",
              "      \n",
              "  <style>\n",
              "    .colab-df-container {\n",
              "      display:flex;\n",
              "      flex-wrap:wrap;\n",
              "      gap: 12px;\n",
              "    }\n",
              "\n",
              "    .colab-df-convert {\n",
              "      background-color: #E8F0FE;\n",
              "      border: none;\n",
              "      border-radius: 50%;\n",
              "      cursor: pointer;\n",
              "      display: none;\n",
              "      fill: #1967D2;\n",
              "      height: 32px;\n",
              "      padding: 0 0 0 0;\n",
              "      width: 32px;\n",
              "    }\n",
              "\n",
              "    .colab-df-convert:hover {\n",
              "      background-color: #E2EBFA;\n",
              "      box-shadow: 0px 1px 2px rgba(60, 64, 67, 0.3), 0px 1px 3px 1px rgba(60, 64, 67, 0.15);\n",
              "      fill: #174EA6;\n",
              "    }\n",
              "\n",
              "    [theme=dark] .colab-df-convert {\n",
              "      background-color: #3B4455;\n",
              "      fill: #D2E3FC;\n",
              "    }\n",
              "\n",
              "    [theme=dark] .colab-df-convert:hover {\n",
              "      background-color: #434B5C;\n",
              "      box-shadow: 0px 1px 3px 1px rgba(0, 0, 0, 0.15);\n",
              "      filter: drop-shadow(0px 1px 2px rgba(0, 0, 0, 0.3));\n",
              "      fill: #FFFFFF;\n",
              "    }\n",
              "  </style>\n",
              "\n",
              "      <script>\n",
              "        const buttonEl =\n",
              "          document.querySelector('#df-733c48c0-73e8-4eed-91e2-e7d2b4dab4a1 button.colab-df-convert');\n",
              "        buttonEl.style.display =\n",
              "          google.colab.kernel.accessAllowed ? 'block' : 'none';\n",
              "\n",
              "        async function convertToInteractive(key) {\n",
              "          const element = document.querySelector('#df-733c48c0-73e8-4eed-91e2-e7d2b4dab4a1');\n",
              "          const dataTable =\n",
              "            await google.colab.kernel.invokeFunction('convertToInteractive',\n",
              "                                                     [key], {});\n",
              "          if (!dataTable) return;\n",
              "\n",
              "          const docLinkHtml = 'Like what you see? Visit the ' +\n",
              "            '<a target=\"_blank\" href=https://colab.research.google.com/notebooks/data_table.ipynb>data table notebook</a>'\n",
              "            + ' to learn more about interactive tables.';\n",
              "          element.innerHTML = '';\n",
              "          dataTable['output_type'] = 'display_data';\n",
              "          await google.colab.output.renderOutput(dataTable, element);\n",
              "          const docLink = document.createElement('div');\n",
              "          docLink.innerHTML = docLinkHtml;\n",
              "          element.appendChild(docLink);\n",
              "        }\n",
              "      </script>\n",
              "    </div>\n",
              "  </div>\n",
              "  "
            ]
          },
          "metadata": {},
          "execution_count": 18
        }
      ]
    },
    {
      "cell_type": "code",
      "source": [
        "sex_group=bike2.groupby([\"성별\"],as_index=False)\n",
        "sex_sum=sex_group[\"이용건수\"].sum()\n",
        "plt.pie(sex_sum['이용건수'],labels = sex_sum['성별'],autopct='%.1f%%')\n",
        "plt.title('성별별 이용비율')"
      ],
      "metadata": {
        "colab": {
          "base_uri": "https://localhost:8080/",
          "height": 281
        },
        "id": "z4Gh6Rf43NLz",
        "outputId": "ab7a6e3f-c204-400a-9bcf-9688911be957"
      },
      "execution_count": 19,
      "outputs": [
        {
          "output_type": "execute_result",
          "data": {
            "text/plain": [
              "Text(0.5, 1.0, '성별별 이용비율')"
            ]
          },
          "metadata": {},
          "execution_count": 19
        },
        {
          "output_type": "display_data",
          "data": {
            "text/plain": [
              "<Figure size 432x288 with 1 Axes>"
            ],
            "image/png": "[encoded data removed]"
          },
          "metadata": {}
        }
      ]
    },
    {
      "cell_type": "code",
      "source": [
        "plt.figure(figsize=(10,10))\n",
        "sns.barplot(x='연령대코드', y='이용건수', hue='성별',data=df1 )"
      ],
      "metadata": {
        "colab": {
          "base_uri": "https://localhost:8080/",
          "height": 633
        },
        "id": "0HPQiOcUTBXw",
        "outputId": "98b376ca-c909-491e-a85c-2222612c9d26"
      },
      "execution_count": 20,
      "outputs": [
        {
          "output_type": "execute_result",
          "data": {
            "text/plain": [
              "<matplotlib.axes._subplots.AxesSubplot at 0x7f4cf2fbe370>"
            ]
          },
          "metadata": {},
          "execution_count": 20
        },
        {
          "output_type": "display_data",
          "data": {
            "text/plain": [
              "<Figure size 720x720 with 1 Axes>"
            ],
            "image/png": "[encoded data removed]"
          },
          "metadata": {
            "needs_background": "light"
          }
        }
      ]
    },
    {
      "cell_type": "markdown",
      "source": [
        "20대 남성과 여성의 이용량이 제일 많은 것을 확인할 수 있다. 20대에서는 다른 나이대에 비해 남여간의 차이가 작으므로  광고의 타깃을 20대 남성과 여성으로 잡는 것이 효율 적이다. "
      ],
      "metadata": {
        "id": "EcBJqGjDTL5L"
      }
    },
    {
      "cell_type": "markdown",
      "source": [
        "# 가장 많은 사용량이 있던 이용소"
      ],
      "metadata": {
        "id": "bCom5Vh4UlhZ"
      }
    },
    {
      "cell_type": "code",
      "source": [
        "bike3=biketotal.copy()"
      ],
      "metadata": {
        "id": "9Li28WqOUpzh"
      },
      "execution_count": 21,
      "outputs": []
    },
    {
      "cell_type": "code",
      "source": [
        "df3=bike3.groupby(['연령대코드','대여소번호','대여소명'],as_index=False)['이용건수'].sum()\n",
        "df3.columns=['연령대코드','대여 대여소번호','대여소명','이용건수']\n",
        "df3"
      ],
      "metadata": {
        "colab": {
          "base_uri": "https://localhost:8080/",
          "height": 423
        },
        "id": "KkQY-8XOw4x7",
        "outputId": "d133e19f-27bb-4d3b-9099-68199d75b0a7"
      },
      "execution_count": 22,
      "outputs": [
        {
          "output_type": "execute_result",
          "data": {
            "text/plain": [
              "      연령대코드  대여 대여소번호              대여소명  이용건수\n",
              "0       10대       102   102. 망원역 1번출구 앞   227\n",
              "1       10대       103   103. 망원역 2번출구 앞   225\n",
              "2       10대       104   104. 합정역 1번출구 앞   129\n",
              "3       10대       105   105. 합정역 5번출구 앞    78\n",
              "4       10대       106   106. 합정역 7번출구 앞   239\n",
              "...     ...       ...               ...   ...\n",
              "21369    기타      5858    5858. 영등포역5번출구    63\n",
              "21370    기타      9992             사대문센터     1\n",
              "21371    기타      9998  9998. 영남주차장 정비센터     6\n",
              "21372    기타      9999              상담센터    34\n",
              "21373    기타     99999    99999. 영남단말기정비    15\n",
              "\n",
              "[21374 rows x 4 columns]"
            ],
            "text/html": [
              "\n",
              "  <div id=\"df-86362c3e-ad45-404d-b8e1-727a3e4cfc82\">\n",
              "    <div class=\"colab-df-container\">\n",
              "      <div>\n",
              "<style scoped>\n",
              "    .dataframe tbody tr th:only-of-type {\n",
              "        vertical-align: middle;\n",
              "    }\n",
              "\n",
              "    .dataframe tbody tr th {\n",
              "        vertical-align: top;\n",
              "    }\n",
              "\n",
              "    .dataframe thead th {\n",
              "        text-align: right;\n",
              "    }\n",
              "</style>\n",
              "<table border=\"1\" class=\"dataframe\">\n",
              "  <thead>\n",
              "    <tr style=\"text-align: right;\">\n",
              "      <th></th>\n",
              "      <th>연령대코드</th>\n",
              "      <th>대여 대여소번호</th>\n",
              "      <th>대여소명</th>\n",
              "      <th>이용건수</th>\n",
              "    </tr>\n",
              "  </thead>\n",
              "  <tbody>\n",
              "    <tr>\n",
              "      <th>0</th>\n",
              "      <td>10대</td>\n",
              "      <td>102</td>\n",
              "      <td>102. 망원역 1번출구 앞</td>\n",
              "      <td>227</td>\n",
              "    </tr>\n",
              "    <tr>\n",
              "      <th>1</th>\n",
              "      <td>10대</td>\n",
              "      <td>103</td>\n",
              "      <td>103. 망원역 2번출구 앞</td>\n",
              "      <td>225</td>\n",
              "    </tr>\n",
              "    <tr>\n",
              "      <th>2</th>\n",
              "      <td>10대</td>\n",
              "      <td>104</td>\n",
              "      <td>104. 합정역 1번출구 앞</td>\n",
              "      <td>129</td>\n",
              "    </tr>\n",
              "    <tr>\n",
              "      <th>3</th>\n",
              "      <td>10대</td>\n",
              "      <td>105</td>\n",
              "      <td>105. 합정역 5번출구 앞</td>\n",
              "      <td>78</td>\n",
              "    </tr>\n",
              "    <tr>\n",
              "      <th>4</th>\n",
              "      <td>10대</td>\n",
              "      <td>106</td>\n",
              "      <td>106. 합정역 7번출구 앞</td>\n",
              "      <td>239</td>\n",
              "    </tr>\n",
              "    <tr>\n",
              "      <th>...</th>\n",
              "      <td>...</td>\n",
              "      <td>...</td>\n",
              "      <td>...</td>\n",
              "      <td>...</td>\n",
              "    </tr>\n",
              "    <tr>\n",
              "      <th>21369</th>\n",
              "      <td>기타</td>\n",
              "      <td>5858</td>\n",
              "      <td>5858. 영등포역5번출구</td>\n",
              "      <td>63</td>\n",
              "    </tr>\n",
              "    <tr>\n",
              "      <th>21370</th>\n",
              "      <td>기타</td>\n",
              "      <td>9992</td>\n",
              "      <td>사대문센터</td>\n",
              "      <td>1</td>\n",
              "    </tr>\n",
              "    <tr>\n",
              "      <th>21371</th>\n",
              "      <td>기타</td>\n",
              "      <td>9998</td>\n",
              "      <td>9998. 영남주차장 정비센터</td>\n",
              "      <td>6</td>\n",
              "    </tr>\n",
              "    <tr>\n",
              "      <th>21372</th>\n",
              "      <td>기타</td>\n",
              "      <td>9999</td>\n",
              "      <td>상담센터</td>\n",
              "      <td>34</td>\n",
              "    </tr>\n",
              "    <tr>\n",
              "      <th>21373</th>\n",
              "      <td>기타</td>\n",
              "      <td>99999</td>\n",
              "      <td>99999. 영남단말기정비</td>\n",
              "      <td>15</td>\n",
              "    </tr>\n",
              "  </tbody>\n",
              "</table>\n",
              "<p>21374 rows × 4 columns</p>\n",
              "</div>\n",
              "      <button class=\"colab-df-convert\" onclick=\"convertToInteractive('df-86362c3e-ad45-404d-b8e1-727a3e4cfc82')\"\n",
              "              title=\"Convert this dataframe to an interactive table.\"\n",
              "              style=\"display:none;\">\n",
              "        \n",
              "  <svg xmlns=\"http://www.w3.org/2000/svg\" height=\"24px\"viewBox=\"0 0 24 24\"\n",
              "       width=\"24px\">\n",
              "    <path d=\"M0 0h24v24H0V0z\" fill=\"none\"/>\n",
              "    <path d=\"M18.56 5.44l.94 2.06.94-2.06 2.06-.94-2.06-.94-.94-2.06-.94 2.06-2.06.94zm-11 1L8.5 8.5l.94-2.06 2.06-.94-2.06-.94L8.5 2.5l-.94 2.06-2.06.94zm10 10l.94 2.06.94-2.06 2.06-.94-2.06-.94-.94-2.06-.94 2.06-2.06.94z\"/><path d=\"M17.41 7.96l-1.37-1.37c-.4-.4-.92-.59-1.43-.59-.52 0-1.04.2-1.43.59L10.3 9.45l-7.72 7.72c-.78.78-.78 2.05 0 2.83L4 21.41c.39.39.9.59 1.41.59.51 0 1.02-.2 1.41-.59l7.78-7.78 2.81-2.81c.8-.78.8-2.07 0-2.86zM5.41 20L4 18.59l7.72-7.72 1.47 1.35L5.41 20z\"/>\n",
              "  </svg>\n",
              "      </button>\n",
              "      \n",
              "  <style>\n",
              "    .colab-df-container {\n",
              "      display:flex;\n",
              "      flex-wrap:wrap;\n",
              "      gap: 12px;\n",
              "    }\n",
              "\n",
              "    .colab-df-convert {\n",
              "      background-color: #E8F0FE;\n",
              "      border: none;\n",
              "      border-radius: 50%;\n",
              "      cursor: pointer;\n",
              "      display: none;\n",
              "      fill: #1967D2;\n",
              "      height: 32px;\n",
              "      padding: 0 0 0 0;\n",
              "      width: 32px;\n",
              "    }\n",
              "\n",
              "    .colab-df-convert:hover {\n",
              "      background-color: #E2EBFA;\n",
              "      box-shadow: 0px 1px 2px rgba(60, 64, 67, 0.3), 0px 1px 3px 1px rgba(60, 64, 67, 0.15);\n",
              "      fill: #174EA6;\n",
              "    }\n",
              "\n",
              "    [theme=dark] .colab-df-convert {\n",
              "      background-color: #3B4455;\n",
              "      fill: #D2E3FC;\n",
              "    }\n",
              "\n",
              "    [theme=dark] .colab-df-convert:hover {\n",
              "      background-color: #434B5C;\n",
              "      box-shadow: 0px 1px 3px 1px rgba(0, 0, 0, 0.15);\n",
              "      filter: drop-shadow(0px 1px 2px rgba(0, 0, 0, 0.3));\n",
              "      fill: #FFFFFF;\n",
              "    }\n",
              "  </style>\n",
              "\n",
              "      <script>\n",
              "        const buttonEl =\n",
              "          document.querySelector('#df-86362c3e-ad45-404d-b8e1-727a3e4cfc82 button.colab-df-convert');\n",
              "        buttonEl.style.display =\n",
              "          google.colab.kernel.accessAllowed ? 'block' : 'none';\n",
              "\n",
              "        async function convertToInteractive(key) {\n",
              "          const element = document.querySelector('#df-86362c3e-ad45-404d-b8e1-727a3e4cfc82');\n",
              "          const dataTable =\n",
              "            await google.colab.kernel.invokeFunction('convertToInteractive',\n",
              "                                                     [key], {});\n",
              "          if (!dataTable) return;\n",
              "\n",
              "          const docLinkHtml = 'Like what you see? Visit the ' +\n",
              "            '<a target=\"_blank\" href=https://colab.research.google.com/notebooks/data_table.ipynb>data table notebook</a>'\n",
              "            + ' to learn more about interactive tables.';\n",
              "          element.innerHTML = '';\n",
              "          dataTable['output_type'] = 'display_data';\n",
              "          await google.colab.output.renderOutput(dataTable, element);\n",
              "          const docLink = document.createElement('div');\n",
              "          docLink.innerHTML = docLinkHtml;\n",
              "          element.appendChild(docLink);\n",
              "        }\n",
              "      </script>\n",
              "    </div>\n",
              "  </div>\n",
              "  "
            ]
          },
          "metadata": {},
          "execution_count": 22
        }
      ]
    },
    {
      "cell_type": "markdown",
      "source": [
        "연령대 코드와 대여소 변호 대여소 명으로 그룹하고 각 그룹별 이용건수를 더한다. "
      ],
      "metadata": {
        "id": "JvpDhq8StAtS"
      }
    },
    {
      "cell_type": "code",
      "source": [
        "df3['연령대코드'].isna().sum()"
      ],
      "metadata": {
        "colab": {
          "base_uri": "https://localhost:8080/"
        },
        "id": "40GAFvmbvCsF",
        "outputId": "646c8eac-c066-4d9c-a60e-d02562d50fa9"
      },
      "execution_count": 23,
      "outputs": [
        {
          "output_type": "execute_result",
          "data": {
            "text/plain": [
              "0"
            ]
          },
          "metadata": {},
          "execution_count": 23
        }
      ]
    },
    {
      "cell_type": "code",
      "source": [
        "df3['대여 대여소번호'].isna().sum()"
      ],
      "metadata": {
        "colab": {
          "base_uri": "https://localhost:8080/"
        },
        "id": "9iY2lsssvIcs",
        "outputId": "2282dcc9-3cab-4483-9a54-f8b5e0a3fae4"
      },
      "execution_count": 24,
      "outputs": [
        {
          "output_type": "execute_result",
          "data": {
            "text/plain": [
              "0"
            ]
          },
          "metadata": {},
          "execution_count": 24
        }
      ]
    },
    {
      "cell_type": "code",
      "source": [
        "df3['대여소명'].isna().sum()"
      ],
      "metadata": {
        "colab": {
          "base_uri": "https://localhost:8080/"
        },
        "id": "tQuqKjkbvMuz",
        "outputId": "dc13eec2-a182-46ee-8d19-cc81c7672a8e"
      },
      "execution_count": 25,
      "outputs": [
        {
          "output_type": "execute_result",
          "data": {
            "text/plain": [
              "0"
            ]
          },
          "metadata": {},
          "execution_count": 25
        }
      ]
    },
    {
      "cell_type": "code",
      "source": [
        "gu_data=pd.read_csv('/content/drive/MyDrive/data/공공자전거대여소정보수정2212.csv')\n",
        "gu_data.columns =['대여 대여소번호','대여 대여소명','자치구','상세주소','위도','경도','설치시기','거치대수1','거치대수2','운영방식']\n",
        "gu_data.shape"
      ],
      "metadata": {
        "colab": {
          "base_uri": "https://localhost:8080/"
        },
        "id": "iSQSDfIEwG4I",
        "outputId": "ee608648-009d-4c04-b3af-feae5ea573f9"
      },
      "execution_count": 26,
      "outputs": [
        {
          "output_type": "execute_result",
          "data": {
            "text/plain": [
              "(2715, 10)"
            ]
          },
          "metadata": {},
          "execution_count": 26
        }
      ]
    },
    {
      "cell_type": "markdown",
      "source": [
        "대여소 정보에서 대여소 번호와 자치구를 불러온다. "
      ],
      "metadata": {
        "id": "RBgVjY0UGJXT"
      }
    },
    {
      "cell_type": "code",
      "source": [
        "dataset1 = gu_data[['대여 대여소번호','자치구']]\n",
        "dataset1"
      ],
      "metadata": {
        "colab": {
          "base_uri": "https://localhost:8080/",
          "height": 423
        },
        "id": "rsbNUN1nweGb",
        "outputId": "2328f26a-5f19-4937-b86b-871e118d8f2c"
      },
      "execution_count": 27,
      "outputs": [
        {
          "output_type": "execute_result",
          "data": {
            "text/plain": [
              "      대여 대여소번호  자치구\n",
              "0          302  종로구\n",
              "1          303  종로구\n",
              "2          305  종로구\n",
              "3          307  종로구\n",
              "4          308  종로구\n",
              "...        ...  ...\n",
              "2710      3691  강동구\n",
              "2711      3692  강동구\n",
              "2712      3694  강동구\n",
              "2713      3698  강동구\n",
              "2714      3699  강동구\n",
              "\n",
              "[2715 rows x 2 columns]"
            ],
            "text/html": [
              "\n",
              "  <div id=\"df-0c833b4a-ce28-440e-9200-3e8670f73f2d\">\n",
              "    <div class=\"colab-df-container\">\n",
              "      <div>\n",
              "<style scoped>\n",
              "    .dataframe tbody tr th:only-of-type {\n",
              "        vertical-align: middle;\n",
              "    }\n",
              "\n",
              "    .dataframe tbody tr th {\n",
              "        vertical-align: top;\n",
              "    }\n",
              "\n",
              "    .dataframe thead th {\n",
              "        text-align: right;\n",
              "    }\n",
              "</style>\n",
              "<table border=\"1\" class=\"dataframe\">\n",
              "  <thead>\n",
              "    <tr style=\"text-align: right;\">\n",
              "      <th></th>\n",
              "      <th>대여 대여소번호</th>\n",
              "      <th>자치구</th>\n",
              "    </tr>\n",
              "  </thead>\n",
              "  <tbody>\n",
              "    <tr>\n",
              "      <th>0</th>\n",
              "      <td>302</td>\n",
              "      <td>종로구</td>\n",
              "    </tr>\n",
              "    <tr>\n",
              "      <th>1</th>\n",
              "      <td>303</td>\n",
              "      <td>종로구</td>\n",
              "    </tr>\n",
              "    <tr>\n",
              "      <th>2</th>\n",
              "      <td>305</td>\n",
              "      <td>종로구</td>\n",
              "    </tr>\n",
              "    <tr>\n",
              "      <th>3</th>\n",
              "      <td>307</td>\n",
              "      <td>종로구</td>\n",
              "    </tr>\n",
              "    <tr>\n",
              "      <th>4</th>\n",
              "      <td>308</td>\n",
              "      <td>종로구</td>\n",
              "    </tr>\n",
              "    <tr>\n",
              "      <th>...</th>\n",
              "      <td>...</td>\n",
              "      <td>...</td>\n",
              "    </tr>\n",
              "    <tr>\n",
              "      <th>2710</th>\n",
              "      <td>3691</td>\n",
              "      <td>강동구</td>\n",
              "    </tr>\n",
              "    <tr>\n",
              "      <th>2711</th>\n",
              "      <td>3692</td>\n",
              "      <td>강동구</td>\n",
              "    </tr>\n",
              "    <tr>\n",
              "      <th>2712</th>\n",
              "      <td>3694</td>\n",
              "      <td>강동구</td>\n",
              "    </tr>\n",
              "    <tr>\n",
              "      <th>2713</th>\n",
              "      <td>3698</td>\n",
              "      <td>강동구</td>\n",
              "    </tr>\n",
              "    <tr>\n",
              "      <th>2714</th>\n",
              "      <td>3699</td>\n",
              "      <td>강동구</td>\n",
              "    </tr>\n",
              "  </tbody>\n",
              "</table>\n",
              "<p>2715 rows × 2 columns</p>\n",
              "</div>\n",
              "      <button class=\"colab-df-convert\" onclick=\"convertToInteractive('df-0c833b4a-ce28-440e-9200-3e8670f73f2d')\"\n",
              "              title=\"Convert this dataframe to an interactive table.\"\n",
              "              style=\"display:none;\">\n",
              "        \n",
              "  <svg xmlns=\"http://www.w3.org/2000/svg\" height=\"24px\"viewBox=\"0 0 24 24\"\n",
              "       width=\"24px\">\n",
              "    <path d=\"M0 0h24v24H0V0z\" fill=\"none\"/>\n",
              "    <path d=\"M18.56 5.44l.94 2.06.94-2.06 2.06-.94-2.06-.94-.94-2.06-.94 2.06-2.06.94zm-11 1L8.5 8.5l.94-2.06 2.06-.94-2.06-.94L8.5 2.5l-.94 2.06-2.06.94zm10 10l.94 2.06.94-2.06 2.06-.94-2.06-.94-.94-2.06-.94 2.06-2.06.94z\"/><path d=\"M17.41 7.96l-1.37-1.37c-.4-.4-.92-.59-1.43-.59-.52 0-1.04.2-1.43.59L10.3 9.45l-7.72 7.72c-.78.78-.78 2.05 0 2.83L4 21.41c.39.39.9.59 1.41.59.51 0 1.02-.2 1.41-.59l7.78-7.78 2.81-2.81c.8-.78.8-2.07 0-2.86zM5.41 20L4 18.59l7.72-7.72 1.47 1.35L5.41 20z\"/>\n",
              "  </svg>\n",
              "      </button>\n",
              "      \n",
              "  <style>\n",
              "    .colab-df-container {\n",
              "      display:flex;\n",
              "      flex-wrap:wrap;\n",
              "      gap: 12px;\n",
              "    }\n",
              "\n",
              "    .colab-df-convert {\n",
              "      background-color: #E8F0FE;\n",
              "      border: none;\n",
              "      border-radius: 50%;\n",
              "      cursor: pointer;\n",
              "      display: none;\n",
              "      fill: #1967D2;\n",
              "      height: 32px;\n",
              "      padding: 0 0 0 0;\n",
              "      width: 32px;\n",
              "    }\n",
              "\n",
              "    .colab-df-convert:hover {\n",
              "      background-color: #E2EBFA;\n",
              "      box-shadow: 0px 1px 2px rgba(60, 64, 67, 0.3), 0px 1px 3px 1px rgba(60, 64, 67, 0.15);\n",
              "      fill: #174EA6;\n",
              "    }\n",
              "\n",
              "    [theme=dark] .colab-df-convert {\n",
              "      background-color: #3B4455;\n",
              "      fill: #D2E3FC;\n",
              "    }\n",
              "\n",
              "    [theme=dark] .colab-df-convert:hover {\n",
              "      background-color: #434B5C;\n",
              "      box-shadow: 0px 1px 3px 1px rgba(0, 0, 0, 0.15);\n",
              "      filter: drop-shadow(0px 1px 2px rgba(0, 0, 0, 0.3));\n",
              "      fill: #FFFFFF;\n",
              "    }\n",
              "  </style>\n",
              "\n",
              "      <script>\n",
              "        const buttonEl =\n",
              "          document.querySelector('#df-0c833b4a-ce28-440e-9200-3e8670f73f2d button.colab-df-convert');\n",
              "        buttonEl.style.display =\n",
              "          google.colab.kernel.accessAllowed ? 'block' : 'none';\n",
              "\n",
              "        async function convertToInteractive(key) {\n",
              "          const element = document.querySelector('#df-0c833b4a-ce28-440e-9200-3e8670f73f2d');\n",
              "          const dataTable =\n",
              "            await google.colab.kernel.invokeFunction('convertToInteractive',\n",
              "                                                     [key], {});\n",
              "          if (!dataTable) return;\n",
              "\n",
              "          const docLinkHtml = 'Like what you see? Visit the ' +\n",
              "            '<a target=\"_blank\" href=https://colab.research.google.com/notebooks/data_table.ipynb>data table notebook</a>'\n",
              "            + ' to learn more about interactive tables.';\n",
              "          element.innerHTML = '';\n",
              "          dataTable['output_type'] = 'display_data';\n",
              "          await google.colab.output.renderOutput(dataTable, element);\n",
              "          const docLink = document.createElement('div');\n",
              "          docLink.innerHTML = docLinkHtml;\n",
              "          element.appendChild(docLink);\n",
              "        }\n",
              "      </script>\n",
              "    </div>\n",
              "  </div>\n",
              "  "
            ]
          },
          "metadata": {},
          "execution_count": 27
        }
      ]
    },
    {
      "cell_type": "code",
      "source": [
        "dataset1['대여 대여소번호'].isna().sum()"
      ],
      "metadata": {
        "colab": {
          "base_uri": "https://localhost:8080/"
        },
        "id": "3yIp_T5mvXSM",
        "outputId": "8d2ecade-7b33-46ab-c437-9843fb5048f2"
      },
      "execution_count": 31,
      "outputs": [
        {
          "output_type": "execute_result",
          "data": {
            "text/plain": [
              "0"
            ]
          },
          "metadata": {},
          "execution_count": 31
        }
      ]
    },
    {
      "cell_type": "code",
      "source": [
        "dataset1['자치구'].isna().sum()"
      ],
      "metadata": {
        "colab": {
          "base_uri": "https://localhost:8080/"
        },
        "id": "kovwByrtvdsE",
        "outputId": "09d8bbeb-ff99-4f11-c434-3c3c4ac97058"
      },
      "execution_count": 32,
      "outputs": [
        {
          "output_type": "execute_result",
          "data": {
            "text/plain": [
              "0"
            ]
          },
          "metadata": {},
          "execution_count": 32
        }
      ]
    },
    {
      "cell_type": "markdown",
      "source": [
        "우리가 필요한 대여소 번호와 자치구 정보만을 추출한다. "
      ],
      "metadata": {
        "id": "c9tNhCfltIF1"
      }
    },
    {
      "cell_type": "markdown",
      "source": [
        "6월 9월 이용건수가 들어있는 데이터와 대여소 번호를 맞추어 결합한다. \n",
        "대여소가 어느 자치구에 있는지 알수 있다."
      ],
      "metadata": {
        "id": "PmbLU6F-GPSz"
      }
    },
    {
      "cell_type": "code",
      "source": [
        "m_data_total=pd.merge(df3,dataset1,on='대여 대여소번호')\n",
        "m_data_total"
      ],
      "metadata": {
        "colab": {
          "base_uri": "https://localhost:8080/",
          "height": 423
        },
        "id": "pNiOmHd2xOej",
        "outputId": "8d4bfd13-627a-4f7f-89f9-dbc5787dcb10"
      },
      "execution_count": 33,
      "outputs": [
        {
          "output_type": "execute_result",
          "data": {
            "text/plain": [
              "      연령대코드  대여 대여소번호             대여소명  이용건수  자치구\n",
              "0       10대       102  102. 망원역 1번출구 앞   227  마포구\n",
              "1       20대       102  102. 망원역 1번출구 앞  4514  마포구\n",
              "2       30대       102  102. 망원역 1번출구 앞  2898  마포구\n",
              "3       40대       102  102. 망원역 1번출구 앞  1011  마포구\n",
              "4       50대       102  102. 망원역 1번출구 앞   574  마포구\n",
              "...     ...       ...              ...   ...  ...\n",
              "21082   30대      4641     4641. 아메리칸센터    82  성동구\n",
              "21083   40대      4641     4641. 아메리칸센터    42  성동구\n",
              "21084   50대      4641     4641. 아메리칸센터    18  성동구\n",
              "21085   60대      4641     4641. 아메리칸센터    13  성동구\n",
              "21086    기타      4641     4641. 아메리칸센터    19  성동구\n",
              "\n",
              "[21087 rows x 5 columns]"
            ],
            "text/html": [
              "\n",
              "  <div id=\"df-4757b28f-d02d-4238-a5d7-0ae05be4e2be\">\n",
              "    <div class=\"colab-df-container\">\n",
              "      <div>\n",
              "<style scoped>\n",
              "    .dataframe tbody tr th:only-of-type {\n",
              "        vertical-align: middle;\n",
              "    }\n",
              "\n",
              "    .dataframe tbody tr th {\n",
              "        vertical-align: top;\n",
              "    }\n",
              "\n",
              "    .dataframe thead th {\n",
              "        text-align: right;\n",
              "    }\n",
              "</style>\n",
              "<table border=\"1\" class=\"dataframe\">\n",
              "  <thead>\n",
              "    <tr style=\"text-align: right;\">\n",
              "      <th></th>\n",
              "      <th>연령대코드</th>\n",
              "      <th>대여 대여소번호</th>\n",
              "      <th>대여소명</th>\n",
              "      <th>이용건수</th>\n",
              "      <th>자치구</th>\n",
              "    </tr>\n",
              "  </thead>\n",
              "  <tbody>\n",
              "    <tr>\n",
              "      <th>0</th>\n",
              "      <td>10대</td>\n",
              "      <td>102</td>\n",
              "      <td>102. 망원역 1번출구 앞</td>\n",
              "      <td>227</td>\n",
              "      <td>마포구</td>\n",
              "    </tr>\n",
              "    <tr>\n",
              "      <th>1</th>\n",
              "      <td>20대</td>\n",
              "      <td>102</td>\n",
              "      <td>102. 망원역 1번출구 앞</td>\n",
              "      <td>4514</td>\n",
              "      <td>마포구</td>\n",
              "    </tr>\n",
              "    <tr>\n",
              "      <th>2</th>\n",
              "      <td>30대</td>\n",
              "      <td>102</td>\n",
              "      <td>102. 망원역 1번출구 앞</td>\n",
              "      <td>2898</td>\n",
              "      <td>마포구</td>\n",
              "    </tr>\n",
              "    <tr>\n",
              "      <th>3</th>\n",
              "      <td>40대</td>\n",
              "      <td>102</td>\n",
              "      <td>102. 망원역 1번출구 앞</td>\n",
              "      <td>1011</td>\n",
              "      <td>마포구</td>\n",
              "    </tr>\n",
              "    <tr>\n",
              "      <th>4</th>\n",
              "      <td>50대</td>\n",
              "      <td>102</td>\n",
              "      <td>102. 망원역 1번출구 앞</td>\n",
              "      <td>574</td>\n",
              "      <td>마포구</td>\n",
              "    </tr>\n",
              "    <tr>\n",
              "      <th>...</th>\n",
              "      <td>...</td>\n",
              "      <td>...</td>\n",
              "      <td>...</td>\n",
              "      <td>...</td>\n",
              "      <td>...</td>\n",
              "    </tr>\n",
              "    <tr>\n",
              "      <th>21082</th>\n",
              "      <td>30대</td>\n",
              "      <td>4641</td>\n",
              "      <td>4641. 아메리칸센터</td>\n",
              "      <td>82</td>\n",
              "      <td>성동구</td>\n",
              "    </tr>\n",
              "    <tr>\n",
              "      <th>21083</th>\n",
              "      <td>40대</td>\n",
              "      <td>4641</td>\n",
              "      <td>4641. 아메리칸센터</td>\n",
              "      <td>42</td>\n",
              "      <td>성동구</td>\n",
              "    </tr>\n",
              "    <tr>\n",
              "      <th>21084</th>\n",
              "      <td>50대</td>\n",
              "      <td>4641</td>\n",
              "      <td>4641. 아메리칸센터</td>\n",
              "      <td>18</td>\n",
              "      <td>성동구</td>\n",
              "    </tr>\n",
              "    <tr>\n",
              "      <th>21085</th>\n",
              "      <td>60대</td>\n",
              "      <td>4641</td>\n",
              "      <td>4641. 아메리칸센터</td>\n",
              "      <td>13</td>\n",
              "      <td>성동구</td>\n",
              "    </tr>\n",
              "    <tr>\n",
              "      <th>21086</th>\n",
              "      <td>기타</td>\n",
              "      <td>4641</td>\n",
              "      <td>4641. 아메리칸센터</td>\n",
              "      <td>19</td>\n",
              "      <td>성동구</td>\n",
              "    </tr>\n",
              "  </tbody>\n",
              "</table>\n",
              "<p>21087 rows × 5 columns</p>\n",
              "</div>\n",
              "      <button class=\"colab-df-convert\" onclick=\"convertToInteractive('df-4757b28f-d02d-4238-a5d7-0ae05be4e2be')\"\n",
              "              title=\"Convert this dataframe to an interactive table.\"\n",
              "              style=\"display:none;\">\n",
              "        \n",
              "  <svg xmlns=\"http://www.w3.org/2000/svg\" height=\"24px\"viewBox=\"0 0 24 24\"\n",
              "       width=\"24px\">\n",
              "    <path d=\"M0 0h24v24H0V0z\" fill=\"none\"/>\n",
              "    <path d=\"M18.56 5.44l.94 2.06.94-2.06 2.06-.94-2.06-.94-.94-2.06-.94 2.06-2.06.94zm-11 1L8.5 8.5l.94-2.06 2.06-.94-2.06-.94L8.5 2.5l-.94 2.06-2.06.94zm10 10l.94 2.06.94-2.06 2.06-.94-2.06-.94-.94-2.06-.94 2.06-2.06.94z\"/><path d=\"M17.41 7.96l-1.37-1.37c-.4-.4-.92-.59-1.43-.59-.52 0-1.04.2-1.43.59L10.3 9.45l-7.72 7.72c-.78.78-.78 2.05 0 2.83L4 21.41c.39.39.9.59 1.41.59.51 0 1.02-.2 1.41-.59l7.78-7.78 2.81-2.81c.8-.78.8-2.07 0-2.86zM5.41 20L4 18.59l7.72-7.72 1.47 1.35L5.41 20z\"/>\n",
              "  </svg>\n",
              "      </button>\n",
              "      \n",
              "  <style>\n",
              "    .colab-df-container {\n",
              "      display:flex;\n",
              "      flex-wrap:wrap;\n",
              "      gap: 12px;\n",
              "    }\n",
              "\n",
              "    .colab-df-convert {\n",
              "      background-color: #E8F0FE;\n",
              "      border: none;\n",
              "      border-radius: 50%;\n",
              "      cursor: pointer;\n",
              "      display: none;\n",
              "      fill: #1967D2;\n",
              "      height: 32px;\n",
              "      padding: 0 0 0 0;\n",
              "      width: 32px;\n",
              "    }\n",
              "\n",
              "    .colab-df-convert:hover {\n",
              "      background-color: #E2EBFA;\n",
              "      box-shadow: 0px 1px 2px rgba(60, 64, 67, 0.3), 0px 1px 3px 1px rgba(60, 64, 67, 0.15);\n",
              "      fill: #174EA6;\n",
              "    }\n",
              "\n",
              "    [theme=dark] .colab-df-convert {\n",
              "      background-color: #3B4455;\n",
              "      fill: #D2E3FC;\n",
              "    }\n",
              "\n",
              "    [theme=dark] .colab-df-convert:hover {\n",
              "      background-color: #434B5C;\n",
              "      box-shadow: 0px 1px 3px 1px rgba(0, 0, 0, 0.15);\n",
              "      filter: drop-shadow(0px 1px 2px rgba(0, 0, 0, 0.3));\n",
              "      fill: #FFFFFF;\n",
              "    }\n",
              "  </style>\n",
              "\n",
              "      <script>\n",
              "        const buttonEl =\n",
              "          document.querySelector('#df-4757b28f-d02d-4238-a5d7-0ae05be4e2be button.colab-df-convert');\n",
              "        buttonEl.style.display =\n",
              "          google.colab.kernel.accessAllowed ? 'block' : 'none';\n",
              "\n",
              "        async function convertToInteractive(key) {\n",
              "          const element = document.querySelector('#df-4757b28f-d02d-4238-a5d7-0ae05be4e2be');\n",
              "          const dataTable =\n",
              "            await google.colab.kernel.invokeFunction('convertToInteractive',\n",
              "                                                     [key], {});\n",
              "          if (!dataTable) return;\n",
              "\n",
              "          const docLinkHtml = 'Like what you see? Visit the ' +\n",
              "            '<a target=\"_blank\" href=https://colab.research.google.com/notebooks/data_table.ipynb>data table notebook</a>'\n",
              "            + ' to learn more about interactive tables.';\n",
              "          element.innerHTML = '';\n",
              "          dataTable['output_type'] = 'display_data';\n",
              "          await google.colab.output.renderOutput(dataTable, element);\n",
              "          const docLink = document.createElement('div');\n",
              "          docLink.innerHTML = docLinkHtml;\n",
              "          element.appendChild(docLink);\n",
              "        }\n",
              "      </script>\n",
              "    </div>\n",
              "  </div>\n",
              "  "
            ]
          },
          "metadata": {},
          "execution_count": 33
        }
      ]
    },
    {
      "cell_type": "code",
      "source": [
        "df3_20=m_data_total[m_data_total['연령대코드']=='20대']\n",
        "df3_20"
      ],
      "metadata": {
        "colab": {
          "base_uri": "https://localhost:8080/",
          "height": 423
        },
        "id": "PE4peokhxhLY",
        "outputId": "d623ddb5-f601-42b0-8ed2-331155e399ec"
      },
      "execution_count": 34,
      "outputs": [
        {
          "output_type": "execute_result",
          "data": {
            "text/plain": [
              "      연령대코드  대여 대여소번호                대여소명  이용건수   자치구\n",
              "1       20대       102     102. 망원역 1번출구 앞  4514   마포구\n",
              "9       20대       103     103. 망원역 2번출구 앞  3762   마포구\n",
              "17      20대       104     104. 합정역 1번출구 앞  1820   마포구\n",
              "25      20대       105     105. 합정역 5번출구 앞  1370   마포구\n",
              "33      20대       106     106. 합정역 7번출구 앞  4226   마포구\n",
              "...     ...       ...                 ...   ...   ...\n",
              "21054   20대      4314  4314. 탑성마을 버스정거장 옆    12   서초구\n",
              "21060   20대      4322      4322.서울추모공원 입구    11   서초구\n",
              "21067   20대      4580          4580. 국회3문   282  영등포구\n",
              "21074   20대      4584          4584. 국회2문   194  영등포구\n",
              "21081   20대      4641        4641. 아메리칸센터    88   성동구\n",
              "\n",
              "[2687 rows x 5 columns]"
            ],
            "text/html": [
              "\n",
              "  <div id=\"df-a09f972e-a5e3-4037-9fdf-28db44f9c0bb\">\n",
              "    <div class=\"colab-df-container\">\n",
              "      <div>\n",
              "<style scoped>\n",
              "    .dataframe tbody tr th:only-of-type {\n",
              "        vertical-align: middle;\n",
              "    }\n",
              "\n",
              "    .dataframe tbody tr th {\n",
              "        vertical-align: top;\n",
              "    }\n",
              "\n",
              "    .dataframe thead th {\n",
              "        text-align: right;\n",
              "    }\n",
              "</style>\n",
              "<table border=\"1\" class=\"dataframe\">\n",
              "  <thead>\n",
              "    <tr style=\"text-align: right;\">\n",
              "      <th></th>\n",
              "      <th>연령대코드</th>\n",
              "      <th>대여 대여소번호</th>\n",
              "      <th>대여소명</th>\n",
              "      <th>이용건수</th>\n",
              "      <th>자치구</th>\n",
              "    </tr>\n",
              "  </thead>\n",
              "  <tbody>\n",
              "    <tr>\n",
              "      <th>1</th>\n",
              "      <td>20대</td>\n",
              "      <td>102</td>\n",
              "      <td>102. 망원역 1번출구 앞</td>\n",
              "      <td>4514</td>\n",
              "      <td>마포구</td>\n",
              "    </tr>\n",
              "    <tr>\n",
              "      <th>9</th>\n",
              "      <td>20대</td>\n",
              "      <td>103</td>\n",
              "      <td>103. 망원역 2번출구 앞</td>\n",
              "      <td>3762</td>\n",
              "      <td>마포구</td>\n",
              "    </tr>\n",
              "    <tr>\n",
              "      <th>17</th>\n",
              "      <td>20대</td>\n",
              "      <td>104</td>\n",
              "      <td>104. 합정역 1번출구 앞</td>\n",
              "      <td>1820</td>\n",
              "      <td>마포구</td>\n",
              "    </tr>\n",
              "    <tr>\n",
              "      <th>25</th>\n",
              "      <td>20대</td>\n",
              "      <td>105</td>\n",
              "      <td>105. 합정역 5번출구 앞</td>\n",
              "      <td>1370</td>\n",
              "      <td>마포구</td>\n",
              "    </tr>\n",
              "    <tr>\n",
              "      <th>33</th>\n",
              "      <td>20대</td>\n",
              "      <td>106</td>\n",
              "      <td>106. 합정역 7번출구 앞</td>\n",
              "      <td>4226</td>\n",
              "      <td>마포구</td>\n",
              "    </tr>\n",
              "    <tr>\n",
              "      <th>...</th>\n",
              "      <td>...</td>\n",
              "      <td>...</td>\n",
              "      <td>...</td>\n",
              "      <td>...</td>\n",
              "      <td>...</td>\n",
              "    </tr>\n",
              "    <tr>\n",
              "      <th>21054</th>\n",
              "      <td>20대</td>\n",
              "      <td>4314</td>\n",
              "      <td>4314. 탑성마을 버스정거장 옆</td>\n",
              "      <td>12</td>\n",
              "      <td>서초구</td>\n",
              "    </tr>\n",
              "    <tr>\n",
              "      <th>21060</th>\n",
              "      <td>20대</td>\n",
              "      <td>4322</td>\n",
              "      <td>4322.서울추모공원 입구</td>\n",
              "      <td>11</td>\n",
              "      <td>서초구</td>\n",
              "    </tr>\n",
              "    <tr>\n",
              "      <th>21067</th>\n",
              "      <td>20대</td>\n",
              "      <td>4580</td>\n",
              "      <td>4580. 국회3문</td>\n",
              "      <td>282</td>\n",
              "      <td>영등포구</td>\n",
              "    </tr>\n",
              "    <tr>\n",
              "      <th>21074</th>\n",
              "      <td>20대</td>\n",
              "      <td>4584</td>\n",
              "      <td>4584. 국회2문</td>\n",
              "      <td>194</td>\n",
              "      <td>영등포구</td>\n",
              "    </tr>\n",
              "    <tr>\n",
              "      <th>21081</th>\n",
              "      <td>20대</td>\n",
              "      <td>4641</td>\n",
              "      <td>4641. 아메리칸센터</td>\n",
              "      <td>88</td>\n",
              "      <td>성동구</td>\n",
              "    </tr>\n",
              "  </tbody>\n",
              "</table>\n",
              "<p>2687 rows × 5 columns</p>\n",
              "</div>\n",
              "      <button class=\"colab-df-convert\" onclick=\"convertToInteractive('df-a09f972e-a5e3-4037-9fdf-28db44f9c0bb')\"\n",
              "              title=\"Convert this dataframe to an interactive table.\"\n",
              "              style=\"display:none;\">\n",
              "        \n",
              "  <svg xmlns=\"http://www.w3.org/2000/svg\" height=\"24px\"viewBox=\"0 0 24 24\"\n",
              "       width=\"24px\">\n",
              "    <path d=\"M0 0h24v24H0V0z\" fill=\"none\"/>\n",
              "    <path d=\"M18.56 5.44l.94 2.06.94-2.06 2.06-.94-2.06-.94-.94-2.06-.94 2.06-2.06.94zm-11 1L8.5 8.5l.94-2.06 2.06-.94-2.06-.94L8.5 2.5l-.94 2.06-2.06.94zm10 10l.94 2.06.94-2.06 2.06-.94-2.06-.94-.94-2.06-.94 2.06-2.06.94z\"/><path d=\"M17.41 7.96l-1.37-1.37c-.4-.4-.92-.59-1.43-.59-.52 0-1.04.2-1.43.59L10.3 9.45l-7.72 7.72c-.78.78-.78 2.05 0 2.83L4 21.41c.39.39.9.59 1.41.59.51 0 1.02-.2 1.41-.59l7.78-7.78 2.81-2.81c.8-.78.8-2.07 0-2.86zM5.41 20L4 18.59l7.72-7.72 1.47 1.35L5.41 20z\"/>\n",
              "  </svg>\n",
              "      </button>\n",
              "      \n",
              "  <style>\n",
              "    .colab-df-container {\n",
              "      display:flex;\n",
              "      flex-wrap:wrap;\n",
              "      gap: 12px;\n",
              "    }\n",
              "\n",
              "    .colab-df-convert {\n",
              "      background-color: #E8F0FE;\n",
              "      border: none;\n",
              "      border-radius: 50%;\n",
              "      cursor: pointer;\n",
              "      display: none;\n",
              "      fill: #1967D2;\n",
              "      height: 32px;\n",
              "      padding: 0 0 0 0;\n",
              "      width: 32px;\n",
              "    }\n",
              "\n",
              "    .colab-df-convert:hover {\n",
              "      background-color: #E2EBFA;\n",
              "      box-shadow: 0px 1px 2px rgba(60, 64, 67, 0.3), 0px 1px 3px 1px rgba(60, 64, 67, 0.15);\n",
              "      fill: #174EA6;\n",
              "    }\n",
              "\n",
              "    [theme=dark] .colab-df-convert {\n",
              "      background-color: #3B4455;\n",
              "      fill: #D2E3FC;\n",
              "    }\n",
              "\n",
              "    [theme=dark] .colab-df-convert:hover {\n",
              "      background-color: #434B5C;\n",
              "      box-shadow: 0px 1px 3px 1px rgba(0, 0, 0, 0.15);\n",
              "      filter: drop-shadow(0px 1px 2px rgba(0, 0, 0, 0.3));\n",
              "      fill: #FFFFFF;\n",
              "    }\n",
              "  </style>\n",
              "\n",
              "      <script>\n",
              "        const buttonEl =\n",
              "          document.querySelector('#df-a09f972e-a5e3-4037-9fdf-28db44f9c0bb button.colab-df-convert');\n",
              "        buttonEl.style.display =\n",
              "          google.colab.kernel.accessAllowed ? 'block' : 'none';\n",
              "\n",
              "        async function convertToInteractive(key) {\n",
              "          const element = document.querySelector('#df-a09f972e-a5e3-4037-9fdf-28db44f9c0bb');\n",
              "          const dataTable =\n",
              "            await google.colab.kernel.invokeFunction('convertToInteractive',\n",
              "                                                     [key], {});\n",
              "          if (!dataTable) return;\n",
              "\n",
              "          const docLinkHtml = 'Like what you see? Visit the ' +\n",
              "            '<a target=\"_blank\" href=https://colab.research.google.com/notebooks/data_table.ipynb>data table notebook</a>'\n",
              "            + ' to learn more about interactive tables.';\n",
              "          element.innerHTML = '';\n",
              "          dataTable['output_type'] = 'display_data';\n",
              "          await google.colab.output.renderOutput(dataTable, element);\n",
              "          const docLink = document.createElement('div');\n",
              "          docLink.innerHTML = docLinkHtml;\n",
              "          element.appendChild(docLink);\n",
              "        }\n",
              "      </script>\n",
              "    </div>\n",
              "  </div>\n",
              "  "
            ]
          },
          "metadata": {},
          "execution_count": 34
        }
      ]
    },
    {
      "cell_type": "markdown",
      "source": [
        "광고 타겟을 20대로 설정했기에 20대가 어느 지역에서 가장 많이 사용했느지 알아낸다. "
      ],
      "metadata": {
        "id": "ornL4FRGtN9U"
      }
    },
    {
      "cell_type": "code",
      "source": [
        "df3_20.sort_values(by='이용건수',ascending=False,inplace=True)"
      ],
      "metadata": {
        "colab": {
          "base_uri": "https://localhost:8080/"
        },
        "id": "jBcmCoH7zcVQ",
        "outputId": "cfa64462-b428-4804-b982-469f9a3c9ce8"
      },
      "execution_count": 35,
      "outputs": [
        {
          "output_type": "stream",
          "name": "stderr",
          "text": [
            "/usr/local/lib/python3.8/dist-packages/pandas/util/_decorators.py:311: SettingWithCopyWarning: \n",
            "A value is trying to be set on a copy of a slice from a DataFrame\n",
            "\n",
            "See the caveats in the documentation: https://pandas.pydata.org/pandas-docs/stable/user_guide/indexing.html#returning-a-view-versus-a-copy\n",
            "  return func(*args, **kwargs)\n"
          ]
        }
      ]
    },
    {
      "cell_type": "code",
      "source": [
        "gu_group=df3_20.groupby(by=[\"자치구\"],as_index=False)\n",
        "gu_sum=gu_group[\"이용건수\"].sum()"
      ],
      "metadata": {
        "id": "VJKgJ4V4E4O3"
      },
      "execution_count": 36,
      "outputs": []
    },
    {
      "cell_type": "markdown",
      "source": [
        "자치구로 그룹하고 각 그룹의 이용건수를 더해준다. "
      ],
      "metadata": {
        "id": "IaVpq8octp2P"
      }
    },
    {
      "cell_type": "code",
      "source": [
        "gu_sum.sort_values(by='이용건수',ascending=False,inplace=True)\n",
        "plt.figure(figsize=(8,8))\n",
        "sns.barplot(data=gu_sum,x='이용건수',y='자치구')\n",
        "plt.title(\"20대 인구 이용건수가 많은 자치구\")\n",
        "plt.show()"
      ],
      "metadata": {
        "colab": {
          "base_uri": "https://localhost:8080/",
          "height": 512
        },
        "id": "qYVosPPiFgBQ",
        "outputId": "342cf46c-f9e3-4867-9293-6faf65026c63"
      },
      "execution_count": 37,
      "outputs": [
        {
          "output_type": "display_data",
          "data": {
            "text/plain": [
              "<Figure size 576x576 with 1 Axes>"
            ],
            "image/png": "[encoded data removed]"
          },
          "metadata": {
            "needs_background": "light"
          }
        }
      ]
    },
    {
      "cell_type": "markdown",
      "source": [
        "이용건수로 분류하고 가장 많은 구부터 순서대로 시각화 한다. \n",
        "강서 송파 영등포에서 이용량이 가장 많음을 알 수 있다. "
      ],
      "metadata": {
        "id": "mFQN44oWtx6H"
      }
    },
    {
      "cell_type": "markdown",
      "source": [
        "자치구 별로 구분하기 위해 그룹으로 묶는다"
      ],
      "metadata": {
        "id": "X72zWev1GYbf"
      }
    },
    {
      "cell_type": "code",
      "source": [
        "grouped=df3_20.groupby('자치구')"
      ],
      "metadata": {
        "id": "XYIc0pCG06m5"
      },
      "execution_count": 38,
      "outputs": []
    },
    {
      "cell_type": "code",
      "source": [
        "gangsu=grouped.get_group('강서구')\n",
        "gangsutop5=gangsu.head(5)"
      ],
      "metadata": {
        "id": "JXqKT6AB1p2n"
      },
      "execution_count": 39,
      "outputs": []
    },
    {
      "cell_type": "code",
      "source": [
        "plt.figure(figsize=(8,8))\n",
        "sns.barplot(data=gangsutop5,x='이용건수',y='대여소명')\n",
        "plt.show()"
      ],
      "metadata": {
        "colab": {
          "base_uri": "https://localhost:8080/",
          "height": 497
        },
        "id": "ndfQkm6X3d08",
        "outputId": "7f22e3f4-8e72-41ae-ddef-4c490b8190f9"
      },
      "execution_count": 40,
      "outputs": [
        {
          "output_type": "display_data",
          "data": {
            "text/plain": [
              "<Figure size 576x576 with 1 Axes>"
            ],
            "image/png": "[encoded data removed]"
          },
          "metadata": {
            "needs_background": "light"
          }
        }
      ]
    },
    {
      "cell_type": "code",
      "source": [
        "songpa=grouped.get_group('송파구')\n",
        "songpatop5=songpa.head(5)\n"
      ],
      "metadata": {
        "id": "wgBnta4C5DnN"
      },
      "execution_count": 43,
      "outputs": []
    },
    {
      "cell_type": "code",
      "source": [
        "plt.figure(figsize=(8,8))\n",
        "sns.barplot(data=songpatop5,x='이용건수',y='대여소명')\n",
        "plt.show()"
      ],
      "metadata": {
        "colab": {
          "base_uri": "https://localhost:8080/",
          "height": 497
        },
        "id": "j4DbbTcE5P0x",
        "outputId": "f00db633-39d5-48ed-d08f-b7b769727b2c"
      },
      "execution_count": 44,
      "outputs": [
        {
          "output_type": "display_data",
          "data": {
            "text/plain": [
              "<Figure size 576x576 with 1 Axes>"
            ],
            "image/png": "[encoded data removed]"
          },
          "metadata": {
            "needs_background": "light"
          }
        }
      ]
    },
    {
      "cell_type": "code",
      "source": [
        "yeo=grouped.get_group('영등포구')\n",
        "yeo5=yeo.head(5)\n"
      ],
      "metadata": {
        "id": "epUgiH8_nKtG"
      },
      "execution_count": 48,
      "outputs": []
    },
    {
      "cell_type": "code",
      "source": [
        "plt.figure(figsize=(8,8))\n",
        "sns.barplot(data=yeo5,x='이용건수',y='대여소명')\n",
        "plt.show()"
      ],
      "metadata": {
        "colab": {
          "base_uri": "https://localhost:8080/",
          "height": 497
        },
        "id": "poBKH_ugnscc",
        "outputId": "8d8a88ff-2ee6-4761-9a9f-28863a65c770"
      },
      "execution_count": 49,
      "outputs": [
        {
          "output_type": "display_data",
          "data": {
            "text/plain": [
              "<Figure size 576x576 with 1 Axes>"
            ],
            "image/png": "[encoded data removed]"
          },
          "metadata": {
            "needs_background": "light"
          }
        }
      ]
    },
    {
      "cell_type": "code",
      "source": [
        "kwanak=grouped.get_group('관악구')\n",
        "kwana5=kwanak.head(5)\n"
      ],
      "metadata": {
        "id": "h1o261dgCG33"
      },
      "execution_count": 45,
      "outputs": []
    },
    {
      "cell_type": "code",
      "source": [
        "plt.figure(figsize=(8,8))\n",
        "sns.barplot(data=kwana5,x='이용건수',y='대여소명')\n",
        "plt.show()"
      ],
      "metadata": {
        "colab": {
          "base_uri": "https://localhost:8080/",
          "height": 497
        },
        "id": "cbYrkQT2CTb2",
        "outputId": "4f5c57b0-2bdf-441c-c333-c8a83200f0f6"
      },
      "execution_count": 46,
      "outputs": [
        {
          "output_type": "display_data",
          "data": {
            "text/plain": [
              "<Figure size 576x576 with 1 Axes>"
            ],
            "image/png": "[encoded data removed]"
          },
          "metadata": {
            "needs_background": "light"
          }
        }
      ]
    },
    {
      "cell_type": "markdown",
      "source": [
        "# 자치구별 연령대 인구 분석"
      ],
      "metadata": {
        "id": "xxbst1diPEWv"
      }
    },
    {
      "cell_type": "code",
      "source": [
        "guager=pd.read_csv('/content/drive/MyDrive/data/자치구별연령별인구(추계인구).csv')\n",
        "guager.shape"
      ],
      "metadata": {
        "id": "FQrBpqAOPI7c",
        "colab": {
          "base_uri": "https://localhost:8080/"
        },
        "outputId": "1827614d-b42b-487f-d8fc-8c3a1e28b181"
      },
      "execution_count": 57,
      "outputs": [
        {
          "output_type": "execute_result",
          "data": {
            "text/plain": [
              "(78, 24)"
            ]
          },
          "metadata": {},
          "execution_count": 57
        }
      ]
    },
    {
      "cell_type": "code",
      "source": [
        "guage=guager.copy()\n",
        "guage['10대']=guage['10~14세']+guage['15~19세']\n",
        "guage.drop(['10~14세','15~19세'],axis=1,inplace=True)\n",
        "guage['20대']=guage['20~24세']+guage['25~29세']\n",
        "guage.drop(['20~24세','25~29세'],axis=1,inplace=True)\n",
        "guage['30대']=guage['30~34세']+guage['35~39세']\n",
        "guage.drop(['30~34세','35~39세'],axis=1,inplace=True)\n",
        "guage['40대']=guage['40~44세']+guage['45~49세']\n",
        "guage.drop(['40~44세','45~49세'],axis=1,inplace=True)\n",
        "guage['50대']=guage['50~54세']+guage['55~59세']\n",
        "guage.drop(['50~54세','55~59세'],axis=1,inplace=True)\n",
        "guage['60대']=guage['60~64세']+guage['65~69세']\n",
        "guage.drop(['60~64세','65~69세'],axis=1,inplace=True)\n",
        "guage['70대이상']=guage['70~74세']+guage['75~79세']+guage['80~84세']+guage['85~89세']+guage['90~94세']+guage['95세 이상+']\n",
        "guage.drop(['70~74세','75~79세','80~84세','85~89세','90~94세','95세 이상+'],axis=1,inplace=True)\n",
        "guage['기타']=guage['0~4세']+guage['5~9세']\n",
        "guage.drop(['0~4세','5~9세'],axis=1,inplace=True)\n",
        "     "
      ],
      "metadata": {
        "id": "Ls6letnzPMZ5"
      },
      "execution_count": 58,
      "outputs": []
    },
    {
      "cell_type": "code",
      "source": [
        "guage"
      ],
      "metadata": {
        "colab": {
          "base_uri": "https://localhost:8080/",
          "height": 423
        },
        "id": "cbFRi6fKPbnH",
        "outputId": "79a1082f-1ed5-4745-87a5-bef4706ef654"
      },
      "execution_count": 59,
      "outputs": [
        {
          "output_type": "execute_result",
          "data": {
            "text/plain": [
              "   자치구별(1) 자치구별(2) 성별(1)       소계     10대     20대      30대      40대      50대  \\\n",
              "0       합계      소계     계  8539824  367223  908906  1087615  1239037  1134306   \n",
              "1       합계      소계    남자  4067598  187382  416792   524339   610158   562504   \n",
              "2       합계      소계    여자  4472226  179841  492114   563276   628879   571802   \n",
              "3       합계     종로구     계   126884    5170   15338    14885    17630    17318   \n",
              "4       합계     종로구    남자    60470    2567    7013     7057     8424     8750   \n",
              "..     ...     ...   ...      ...     ...     ...      ...      ...      ...   \n",
              "73      합계     송파구    남자   280511   14865   27194    35718    43384    39026   \n",
              "74      합계     송파구    여자   310317   14431   32034    41443    47028    41586   \n",
              "75      합계     강동구     계   411368   19812   38075    48561    60448    56166   \n",
              "76      합계     강동구    남자   197521   10359   18077    23283    29731    27744   \n",
              "77      합계     강동구    여자   213847    9453   19998    25278    30717    28422   \n",
              "\n",
              "        60대    70대이상      기타  \n",
              "0   1220445  2085432  496860  \n",
              "1    592637   917640  256146  \n",
              "2    627808  1167792  240714  \n",
              "3     18548    32033    5962  \n",
              "4      9388    14239    3032  \n",
              "..      ...      ...     ...  \n",
              "73    40364    59834   20126  \n",
              "74    43654    71291   18850  \n",
              "75    60875   101891   25540  \n",
              "76    29572    45611   13144  \n",
              "77    31303    56280   12396  \n",
              "\n",
              "[78 rows x 12 columns]"
            ],
            "text/html": [
              "\n",
              "  <div id=\"df-b05812de-12ca-4a32-ab7c-69bcc1f7ad99\">\n",
              "    <div class=\"colab-df-container\">\n",
              "      <div>\n",
              "<style scoped>\n",
              "    .dataframe tbody tr th:only-of-type {\n",
              "        vertical-align: middle;\n",
              "    }\n",
              "\n",
              "    .dataframe tbody tr th {\n",
              "        vertical-align: top;\n",
              "    }\n",
              "\n",
              "    .dataframe thead th {\n",
              "        text-align: right;\n",
              "    }\n",
              "</style>\n",
              "<table border=\"1\" class=\"dataframe\">\n",
              "  <thead>\n",
              "    <tr style=\"text-align: right;\">\n",
              "      <th></th>\n",
              "      <th>자치구별(1)</th>\n",
              "      <th>자치구별(2)</th>\n",
              "      <th>성별(1)</th>\n",
              "      <th>소계</th>\n",
              "      <th>10대</th>\n",
              "      <th>20대</th>\n",
              "      <th>30대</th>\n",
              "      <th>40대</th>\n",
              "      <th>50대</th>\n",
              "      <th>60대</th>\n",
              "      <th>70대이상</th>\n",
              "      <th>기타</th>\n",
              "    </tr>\n",
              "  </thead>\n",
              "  <tbody>\n",
              "    <tr>\n",
              "      <th>0</th>\n",
              "      <td>합계</td>\n",
              "      <td>소계</td>\n",
              "      <td>계</td>\n",
              "      <td>8539824</td>\n",
              "      <td>367223</td>\n",
              "      <td>908906</td>\n",
              "      <td>1087615</td>\n",
              "      <td>1239037</td>\n",
              "      <td>1134306</td>\n",
              "      <td>1220445</td>\n",
              "      <td>2085432</td>\n",
              "      <td>496860</td>\n",
              "    </tr>\n",
              "    <tr>\n",
              "      <th>1</th>\n",
              "      <td>합계</td>\n",
              "      <td>소계</td>\n",
              "      <td>남자</td>\n",
              "      <td>4067598</td>\n",
              "      <td>187382</td>\n",
              "      <td>416792</td>\n",
              "      <td>524339</td>\n",
              "      <td>610158</td>\n",
              "      <td>562504</td>\n",
              "      <td>592637</td>\n",
              "      <td>917640</td>\n",
              "      <td>256146</td>\n",
              "    </tr>\n",
              "    <tr>\n",
              "      <th>2</th>\n",
              "      <td>합계</td>\n",
              "      <td>소계</td>\n",
              "      <td>여자</td>\n",
              "      <td>4472226</td>\n",
              "      <td>179841</td>\n",
              "      <td>492114</td>\n",
              "      <td>563276</td>\n",
              "      <td>628879</td>\n",
              "      <td>571802</td>\n",
              "      <td>627808</td>\n",
              "      <td>1167792</td>\n",
              "      <td>240714</td>\n",
              "    </tr>\n",
              "    <tr>\n",
              "      <th>3</th>\n",
              "      <td>합계</td>\n",
              "      <td>종로구</td>\n",
              "      <td>계</td>\n",
              "      <td>126884</td>\n",
              "      <td>5170</td>\n",
              "      <td>15338</td>\n",
              "      <td>14885</td>\n",
              "      <td>17630</td>\n",
              "      <td>17318</td>\n",
              "      <td>18548</td>\n",
              "      <td>32033</td>\n",
              "      <td>5962</td>\n",
              "    </tr>\n",
              "    <tr>\n",
              "      <th>4</th>\n",
              "      <td>합계</td>\n",
              "      <td>종로구</td>\n",
              "      <td>남자</td>\n",
              "      <td>60470</td>\n",
              "      <td>2567</td>\n",
              "      <td>7013</td>\n",
              "      <td>7057</td>\n",
              "      <td>8424</td>\n",
              "      <td>8750</td>\n",
              "      <td>9388</td>\n",
              "      <td>14239</td>\n",
              "      <td>3032</td>\n",
              "    </tr>\n",
              "    <tr>\n",
              "      <th>...</th>\n",
              "      <td>...</td>\n",
              "      <td>...</td>\n",
              "      <td>...</td>\n",
              "      <td>...</td>\n",
              "      <td>...</td>\n",
              "      <td>...</td>\n",
              "      <td>...</td>\n",
              "      <td>...</td>\n",
              "      <td>...</td>\n",
              "      <td>...</td>\n",
              "      <td>...</td>\n",
              "      <td>...</td>\n",
              "    </tr>\n",
              "    <tr>\n",
              "      <th>73</th>\n",
              "      <td>합계</td>\n",
              "      <td>송파구</td>\n",
              "      <td>남자</td>\n",
              "      <td>280511</td>\n",
              "      <td>14865</td>\n",
              "      <td>27194</td>\n",
              "      <td>35718</td>\n",
              "      <td>43384</td>\n",
              "      <td>39026</td>\n",
              "      <td>40364</td>\n",
              "      <td>59834</td>\n",
              "      <td>20126</td>\n",
              "    </tr>\n",
              "    <tr>\n",
              "      <th>74</th>\n",
              "      <td>합계</td>\n",
              "      <td>송파구</td>\n",
              "      <td>여자</td>\n",
              "      <td>310317</td>\n",
              "      <td>14431</td>\n",
              "      <td>32034</td>\n",
              "      <td>41443</td>\n",
              "      <td>47028</td>\n",
              "      <td>41586</td>\n",
              "      <td>43654</td>\n",
              "      <td>71291</td>\n",
              "      <td>18850</td>\n",
              "    </tr>\n",
              "    <tr>\n",
              "      <th>75</th>\n",
              "      <td>합계</td>\n",
              "      <td>강동구</td>\n",
              "      <td>계</td>\n",
              "      <td>411368</td>\n",
              "      <td>19812</td>\n",
              "      <td>38075</td>\n",
              "      <td>48561</td>\n",
              "      <td>60448</td>\n",
              "      <td>56166</td>\n",
              "      <td>60875</td>\n",
              "      <td>101891</td>\n",
              "      <td>25540</td>\n",
              "    </tr>\n",
              "    <tr>\n",
              "      <th>76</th>\n",
              "      <td>합계</td>\n",
              "      <td>강동구</td>\n",
              "      <td>남자</td>\n",
              "      <td>197521</td>\n",
              "      <td>10359</td>\n",
              "      <td>18077</td>\n",
              "      <td>23283</td>\n",
              "      <td>29731</td>\n",
              "      <td>27744</td>\n",
              "      <td>29572</td>\n",
              "      <td>45611</td>\n",
              "      <td>13144</td>\n",
              "    </tr>\n",
              "    <tr>\n",
              "      <th>77</th>\n",
              "      <td>합계</td>\n",
              "      <td>강동구</td>\n",
              "      <td>여자</td>\n",
              "      <td>213847</td>\n",
              "      <td>9453</td>\n",
              "      <td>19998</td>\n",
              "      <td>25278</td>\n",
              "      <td>30717</td>\n",
              "      <td>28422</td>\n",
              "      <td>31303</td>\n",
              "      <td>56280</td>\n",
              "      <td>12396</td>\n",
              "    </tr>\n",
              "  </tbody>\n",
              "</table>\n",
              "<p>78 rows × 12 columns</p>\n",
              "</div>\n",
              "      <button class=\"colab-df-convert\" onclick=\"convertToInteractive('df-b05812de-12ca-4a32-ab7c-69bcc1f7ad99')\"\n",
              "              title=\"Convert this dataframe to an interactive table.\"\n",
              "              style=\"display:none;\">\n",
              "        \n",
              "  <svg xmlns=\"http://www.w3.org/2000/svg\" height=\"24px\"viewBox=\"0 0 24 24\"\n",
              "       width=\"24px\">\n",
              "    <path d=\"M0 0h24v24H0V0z\" fill=\"none\"/>\n",
              "    <path d=\"M18.56 5.44l.94 2.06.94-2.06 2.06-.94-2.06-.94-.94-2.06-.94 2.06-2.06.94zm-11 1L8.5 8.5l.94-2.06 2.06-.94-2.06-.94L8.5 2.5l-.94 2.06-2.06.94zm10 10l.94 2.06.94-2.06 2.06-.94-2.06-.94-.94-2.06-.94 2.06-2.06.94z\"/><path d=\"M17.41 7.96l-1.37-1.37c-.4-.4-.92-.59-1.43-.59-.52 0-1.04.2-1.43.59L10.3 9.45l-7.72 7.72c-.78.78-.78 2.05 0 2.83L4 21.41c.39.39.9.59 1.41.59.51 0 1.02-.2 1.41-.59l7.78-7.78 2.81-2.81c.8-.78.8-2.07 0-2.86zM5.41 20L4 18.59l7.72-7.72 1.47 1.35L5.41 20z\"/>\n",
              "  </svg>\n",
              "      </button>\n",
              "      \n",
              "  <style>\n",
              "    .colab-df-container {\n",
              "      display:flex;\n",
              "      flex-wrap:wrap;\n",
              "      gap: 12px;\n",
              "    }\n",
              "\n",
              "    .colab-df-convert {\n",
              "      background-color: #E8F0FE;\n",
              "      border: none;\n",
              "      border-radius: 50%;\n",
              "      cursor: pointer;\n",
              "      display: none;\n",
              "      fill: #1967D2;\n",
              "      height: 32px;\n",
              "      padding: 0 0 0 0;\n",
              "      width: 32px;\n",
              "    }\n",
              "\n",
              "    .colab-df-convert:hover {\n",
              "      background-color: #E2EBFA;\n",
              "      box-shadow: 0px 1px 2px rgba(60, 64, 67, 0.3), 0px 1px 3px 1px rgba(60, 64, 67, 0.15);\n",
              "      fill: #174EA6;\n",
              "    }\n",
              "\n",
              "    [theme=dark] .colab-df-convert {\n",
              "      background-color: #3B4455;\n",
              "      fill: #D2E3FC;\n",
              "    }\n",
              "\n",
              "    [theme=dark] .colab-df-convert:hover {\n",
              "      background-color: #434B5C;\n",
              "      box-shadow: 0px 1px 3px 1px rgba(0, 0, 0, 0.15);\n",
              "      filter: drop-shadow(0px 1px 2px rgba(0, 0, 0, 0.3));\n",
              "      fill: #FFFFFF;\n",
              "    }\n",
              "  </style>\n",
              "\n",
              "      <script>\n",
              "        const buttonEl =\n",
              "          document.querySelector('#df-b05812de-12ca-4a32-ab7c-69bcc1f7ad99 button.colab-df-convert');\n",
              "        buttonEl.style.display =\n",
              "          google.colab.kernel.accessAllowed ? 'block' : 'none';\n",
              "\n",
              "        async function convertToInteractive(key) {\n",
              "          const element = document.querySelector('#df-b05812de-12ca-4a32-ab7c-69bcc1f7ad99');\n",
              "          const dataTable =\n",
              "            await google.colab.kernel.invokeFunction('convertToInteractive',\n",
              "                                                     [key], {});\n",
              "          if (!dataTable) return;\n",
              "\n",
              "          const docLinkHtml = 'Like what you see? Visit the ' +\n",
              "            '<a target=\"_blank\" href=https://colab.research.google.com/notebooks/data_table.ipynb>data table notebook</a>'\n",
              "            + ' to learn more about interactive tables.';\n",
              "          element.innerHTML = '';\n",
              "          dataTable['output_type'] = 'display_data';\n",
              "          await google.colab.output.renderOutput(dataTable, element);\n",
              "          const docLink = document.createElement('div');\n",
              "          docLink.innerHTML = docLinkHtml;\n",
              "          element.appendChild(docLink);\n",
              "        }\n",
              "      </script>\n",
              "    </div>\n",
              "  </div>\n",
              "  "
            ]
          },
          "metadata": {},
          "execution_count": 59
        }
      ]
    },
    {
      "cell_type": "code",
      "source": [
        "guage.drop('자치구별(1)',axis=1,inplace=True)\n",
        "guage.drop(0,inplace=True)\n",
        "guage.drop(1,inplace=True)\n",
        "guage.drop(2,inplace=True)"
      ],
      "metadata": {
        "id": "QvlSPu_QPonP"
      },
      "execution_count": 60,
      "outputs": []
    },
    {
      "cell_type": "code",
      "source": [
        "guage.set_index('자치구별(2)',inplace=True)\n"
      ],
      "metadata": {
        "id": "C3sXa1NrQrAw"
      },
      "execution_count": 61,
      "outputs": []
    },
    {
      "cell_type": "code",
      "source": [
        "guage_20=guage[['성별(1)','20대']]\n",
        "guage_20"
      ],
      "metadata": {
        "colab": {
          "base_uri": "https://localhost:8080/",
          "height": 455
        },
        "id": "9ZU3mUoBRXs_",
        "outputId": "5bbcc205-04f0-4cd6-85e2-94454c9f6ef7"
      },
      "execution_count": 62,
      "outputs": [
        {
          "output_type": "execute_result",
          "data": {
            "text/plain": [
              "        성별(1)    20대\n",
              "자치구별(2)             \n",
              "종로구         계  15338\n",
              "종로구        남자   7013\n",
              "종로구        여자   8325\n",
              "중구          계  11731\n",
              "중구         남자   5250\n",
              "...       ...    ...\n",
              "송파구        남자  27194\n",
              "송파구        여자  32034\n",
              "강동구         계  38075\n",
              "강동구        남자  18077\n",
              "강동구        여자  19998\n",
              "\n",
              "[75 rows x 2 columns]"
            ],
            "text/html": [
              "\n",
              "  <div id=\"df-b818821d-e927-474a-8527-dfcf2fd82aba\">\n",
              "    <div class=\"colab-df-container\">\n",
              "      <div>\n",
              "<style scoped>\n",
              "    .dataframe tbody tr th:only-of-type {\n",
              "        vertical-align: middle;\n",
              "    }\n",
              "\n",
              "    .dataframe tbody tr th {\n",
              "        vertical-align: top;\n",
              "    }\n",
              "\n",
              "    .dataframe thead th {\n",
              "        text-align: right;\n",
              "    }\n",
              "</style>\n",
              "<table border=\"1\" class=\"dataframe\">\n",
              "  <thead>\n",
              "    <tr style=\"text-align: right;\">\n",
              "      <th></th>\n",
              "      <th>성별(1)</th>\n",
              "      <th>20대</th>\n",
              "    </tr>\n",
              "    <tr>\n",
              "      <th>자치구별(2)</th>\n",
              "      <th></th>\n",
              "      <th></th>\n",
              "    </tr>\n",
              "  </thead>\n",
              "  <tbody>\n",
              "    <tr>\n",
              "      <th>종로구</th>\n",
              "      <td>계</td>\n",
              "      <td>15338</td>\n",
              "    </tr>\n",
              "    <tr>\n",
              "      <th>종로구</th>\n",
              "      <td>남자</td>\n",
              "      <td>7013</td>\n",
              "    </tr>\n",
              "    <tr>\n",
              "      <th>종로구</th>\n",
              "      <td>여자</td>\n",
              "      <td>8325</td>\n",
              "    </tr>\n",
              "    <tr>\n",
              "      <th>중구</th>\n",
              "      <td>계</td>\n",
              "      <td>11731</td>\n",
              "    </tr>\n",
              "    <tr>\n",
              "      <th>중구</th>\n",
              "      <td>남자</td>\n",
              "      <td>5250</td>\n",
              "    </tr>\n",
              "    <tr>\n",
              "      <th>...</th>\n",
              "      <td>...</td>\n",
              "      <td>...</td>\n",
              "    </tr>\n",
              "    <tr>\n",
              "      <th>송파구</th>\n",
              "      <td>남자</td>\n",
              "      <td>27194</td>\n",
              "    </tr>\n",
              "    <tr>\n",
              "      <th>송파구</th>\n",
              "      <td>여자</td>\n",
              "      <td>32034</td>\n",
              "    </tr>\n",
              "    <tr>\n",
              "      <th>강동구</th>\n",
              "      <td>계</td>\n",
              "      <td>38075</td>\n",
              "    </tr>\n",
              "    <tr>\n",
              "      <th>강동구</th>\n",
              "      <td>남자</td>\n",
              "      <td>18077</td>\n",
              "    </tr>\n",
              "    <tr>\n",
              "      <th>강동구</th>\n",
              "      <td>여자</td>\n",
              "      <td>19998</td>\n",
              "    </tr>\n",
              "  </tbody>\n",
              "</table>\n",
              "<p>75 rows × 2 columns</p>\n",
              "</div>\n",
              "      <button class=\"colab-df-convert\" onclick=\"convertToInteractive('df-b818821d-e927-474a-8527-dfcf2fd82aba')\"\n",
              "              title=\"Convert this dataframe to an interactive table.\"\n",
              "              style=\"display:none;\">\n",
              "        \n",
              "  <svg xmlns=\"http://www.w3.org/2000/svg\" height=\"24px\"viewBox=\"0 0 24 24\"\n",
              "       width=\"24px\">\n",
              "    <path d=\"M0 0h24v24H0V0z\" fill=\"none\"/>\n",
              "    <path d=\"M18.56 5.44l.94 2.06.94-2.06 2.06-.94-2.06-.94-.94-2.06-.94 2.06-2.06.94zm-11 1L8.5 8.5l.94-2.06 2.06-.94-2.06-.94L8.5 2.5l-.94 2.06-2.06.94zm10 10l.94 2.06.94-2.06 2.06-.94-2.06-.94-.94-2.06-.94 2.06-2.06.94z\"/><path d=\"M17.41 7.96l-1.37-1.37c-.4-.4-.92-.59-1.43-.59-.52 0-1.04.2-1.43.59L10.3 9.45l-7.72 7.72c-.78.78-.78 2.05 0 2.83L4 21.41c.39.39.9.59 1.41.59.51 0 1.02-.2 1.41-.59l7.78-7.78 2.81-2.81c.8-.78.8-2.07 0-2.86zM5.41 20L4 18.59l7.72-7.72 1.47 1.35L5.41 20z\"/>\n",
              "  </svg>\n",
              "      </button>\n",
              "      \n",
              "  <style>\n",
              "    .colab-df-container {\n",
              "      display:flex;\n",
              "      flex-wrap:wrap;\n",
              "      gap: 12px;\n",
              "    }\n",
              "\n",
              "    .colab-df-convert {\n",
              "      background-color: #E8F0FE;\n",
              "      border: none;\n",
              "      border-radius: 50%;\n",
              "      cursor: pointer;\n",
              "      display: none;\n",
              "      fill: #1967D2;\n",
              "      height: 32px;\n",
              "      padding: 0 0 0 0;\n",
              "      width: 32px;\n",
              "    }\n",
              "\n",
              "    .colab-df-convert:hover {\n",
              "      background-color: #E2EBFA;\n",
              "      box-shadow: 0px 1px 2px rgba(60, 64, 67, 0.3), 0px 1px 3px 1px rgba(60, 64, 67, 0.15);\n",
              "      fill: #174EA6;\n",
              "    }\n",
              "\n",
              "    [theme=dark] .colab-df-convert {\n",
              "      background-color: #3B4455;\n",
              "      fill: #D2E3FC;\n",
              "    }\n",
              "\n",
              "    [theme=dark] .colab-df-convert:hover {\n",
              "      background-color: #434B5C;\n",
              "      box-shadow: 0px 1px 3px 1px rgba(0, 0, 0, 0.15);\n",
              "      filter: drop-shadow(0px 1px 2px rgba(0, 0, 0, 0.3));\n",
              "      fill: #FFFFFF;\n",
              "    }\n",
              "  </style>\n",
              "\n",
              "      <script>\n",
              "        const buttonEl =\n",
              "          document.querySelector('#df-b818821d-e927-474a-8527-dfcf2fd82aba button.colab-df-convert');\n",
              "        buttonEl.style.display =\n",
              "          google.colab.kernel.accessAllowed ? 'block' : 'none';\n",
              "\n",
              "        async function convertToInteractive(key) {\n",
              "          const element = document.querySelector('#df-b818821d-e927-474a-8527-dfcf2fd82aba');\n",
              "          const dataTable =\n",
              "            await google.colab.kernel.invokeFunction('convertToInteractive',\n",
              "                                                     [key], {});\n",
              "          if (!dataTable) return;\n",
              "\n",
              "          const docLinkHtml = 'Like what you see? Visit the ' +\n",
              "            '<a target=\"_blank\" href=https://colab.research.google.com/notebooks/data_table.ipynb>data table notebook</a>'\n",
              "            + ' to learn more about interactive tables.';\n",
              "          element.innerHTML = '';\n",
              "          dataTable['output_type'] = 'display_data';\n",
              "          await google.colab.output.renderOutput(dataTable, element);\n",
              "          const docLink = document.createElement('div');\n",
              "          docLink.innerHTML = docLinkHtml;\n",
              "          element.appendChild(docLink);\n",
              "        }\n",
              "      </script>\n",
              "    </div>\n",
              "  </div>\n",
              "  "
            ]
          },
          "metadata": {},
          "execution_count": 62
        }
      ]
    },
    {
      "cell_type": "code",
      "source": [
        "guage_20t=guage_20[guage_20['성별(1)']=='계']\n",
        "guage_20t.columns=['성별합계','20대합계']\n",
        "guage_20t.sort_values(by='20대합계',ascending=False)"
      ],
      "metadata": {
        "colab": {
          "base_uri": "https://localhost:8080/",
          "height": 864
        },
        "id": "QkriXP0jpe3O",
        "outputId": "7b8ef24d-8369-45cf-dc04-605ba417795f"
      },
      "execution_count": 63,
      "outputs": [
        {
          "output_type": "execute_result",
          "data": {
            "text/plain": [
              "        성별합계  20대합계\n",
              "자치구별(2)            \n",
              "관악구        계  69359\n",
              "송파구        계  59228\n",
              "강서구        계  53355\n",
              "강남구        계  51601\n",
              "동작구        계  44114\n",
              "성북구        계  42903\n",
              "노원구        계  41152\n",
              "마포구        계  40498\n",
              "은평구        계  39730\n",
              "광진구        계  38997\n",
              "강동구        계  38075\n",
              "서초구        계  37757\n",
              "동대문구       계  36965\n",
              "영등포구       계  36462\n",
              "양천구        계  34831\n",
              "구로구        계  34445\n",
              "서대문구       계  33091\n",
              "중랑구        계  31707\n",
              "성동구        계  28991\n",
              "강북구        계  23577\n",
              "도봉구        계  22485\n",
              "금천구        계  21365\n",
              "용산구        계  21149\n",
              "종로구        계  15338\n",
              "중구         계  11731"
            ],
            "text/html": [
              "\n",
              "  <div id=\"df-9c143b2a-d3fe-45cd-ad8d-0659c01497f0\">\n",
              "    <div class=\"colab-df-container\">\n",
              "      <div>\n",
              "<style scoped>\n",
              "    .dataframe tbody tr th:only-of-type {\n",
              "        vertical-align: middle;\n",
              "    }\n",
              "\n",
              "    .dataframe tbody tr th {\n",
              "        vertical-align: top;\n",
              "    }\n",
              "\n",
              "    .dataframe thead th {\n",
              "        text-align: right;\n",
              "    }\n",
              "</style>\n",
              "<table border=\"1\" class=\"dataframe\">\n",
              "  <thead>\n",
              "    <tr style=\"text-align: right;\">\n",
              "      <th></th>\n",
              "      <th>성별합계</th>\n",
              "      <th>20대합계</th>\n",
              "    </tr>\n",
              "    <tr>\n",
              "      <th>자치구별(2)</th>\n",
              "      <th></th>\n",
              "      <th></th>\n",
              "    </tr>\n",
              "  </thead>\n",
              "  <tbody>\n",
              "    <tr>\n",
              "      <th>관악구</th>\n",
              "      <td>계</td>\n",
              "      <td>69359</td>\n",
              "    </tr>\n",
              "    <tr>\n",
              "      <th>송파구</th>\n",
              "      <td>계</td>\n",
              "      <td>59228</td>\n",
              "    </tr>\n",
              "    <tr>\n",
              "      <th>강서구</th>\n",
              "      <td>계</td>\n",
              "      <td>53355</td>\n",
              "    </tr>\n",
              "    <tr>\n",
              "      <th>강남구</th>\n",
              "      <td>계</td>\n",
              "      <td>51601</td>\n",
              "    </tr>\n",
              "    <tr>\n",
              "      <th>동작구</th>\n",
              "      <td>계</td>\n",
              "      <td>44114</td>\n",
              "    </tr>\n",
              "    <tr>\n",
              "      <th>성북구</th>\n",
              "      <td>계</td>\n",
              "      <td>42903</td>\n",
              "    </tr>\n",
              "    <tr>\n",
              "      <th>노원구</th>\n",
              "      <td>계</td>\n",
              "      <td>41152</td>\n",
              "    </tr>\n",
              "    <tr>\n",
              "      <th>마포구</th>\n",
              "      <td>계</td>\n",
              "      <td>40498</td>\n",
              "    </tr>\n",
              "    <tr>\n",
              "      <th>은평구</th>\n",
              "      <td>계</td>\n",
              "      <td>39730</td>\n",
              "    </tr>\n",
              "    <tr>\n",
              "      <th>광진구</th>\n",
              "      <td>계</td>\n",
              "      <td>38997</td>\n",
              "    </tr>\n",
              "    <tr>\n",
              "      <th>강동구</th>\n",
              "      <td>계</td>\n",
              "      <td>38075</td>\n",
              "    </tr>\n",
              "    <tr>\n",
              "      <th>서초구</th>\n",
              "      <td>계</td>\n",
              "      <td>37757</td>\n",
              "    </tr>\n",
              "    <tr>\n",
              "      <th>동대문구</th>\n",
              "      <td>계</td>\n",
              "      <td>36965</td>\n",
              "    </tr>\n",
              "    <tr>\n",
              "      <th>영등포구</th>\n",
              "      <td>계</td>\n",
              "      <td>36462</td>\n",
              "    </tr>\n",
              "    <tr>\n",
              "      <th>양천구</th>\n",
              "      <td>계</td>\n",
              "      <td>34831</td>\n",
              "    </tr>\n",
              "    <tr>\n",
              "      <th>구로구</th>\n",
              "      <td>계</td>\n",
              "      <td>34445</td>\n",
              "    </tr>\n",
              "    <tr>\n",
              "      <th>서대문구</th>\n",
              "      <td>계</td>\n",
              "      <td>33091</td>\n",
              "    </tr>\n",
              "    <tr>\n",
              "      <th>중랑구</th>\n",
              "      <td>계</td>\n",
              "      <td>31707</td>\n",
              "    </tr>\n",
              "    <tr>\n",
              "      <th>성동구</th>\n",
              "      <td>계</td>\n",
              "      <td>28991</td>\n",
              "    </tr>\n",
              "    <tr>\n",
              "      <th>강북구</th>\n",
              "      <td>계</td>\n",
              "      <td>23577</td>\n",
              "    </tr>\n",
              "    <tr>\n",
              "      <th>도봉구</th>\n",
              "      <td>계</td>\n",
              "      <td>22485</td>\n",
              "    </tr>\n",
              "    <tr>\n",
              "      <th>금천구</th>\n",
              "      <td>계</td>\n",
              "      <td>21365</td>\n",
              "    </tr>\n",
              "    <tr>\n",
              "      <th>용산구</th>\n",
              "      <td>계</td>\n",
              "      <td>21149</td>\n",
              "    </tr>\n",
              "    <tr>\n",
              "      <th>종로구</th>\n",
              "      <td>계</td>\n",
              "      <td>15338</td>\n",
              "    </tr>\n",
              "    <tr>\n",
              "      <th>중구</th>\n",
              "      <td>계</td>\n",
              "      <td>11731</td>\n",
              "    </tr>\n",
              "  </tbody>\n",
              "</table>\n",
              "</div>\n",
              "      <button class=\"colab-df-convert\" onclick=\"convertToInteractive('df-9c143b2a-d3fe-45cd-ad8d-0659c01497f0')\"\n",
              "              title=\"Convert this dataframe to an interactive table.\"\n",
              "              style=\"display:none;\">\n",
              "        \n",
              "  <svg xmlns=\"http://www.w3.org/2000/svg\" height=\"24px\"viewBox=\"0 0 24 24\"\n",
              "       width=\"24px\">\n",
              "    <path d=\"M0 0h24v24H0V0z\" fill=\"none\"/>\n",
              "    <path d=\"M18.56 5.44l.94 2.06.94-2.06 2.06-.94-2.06-.94-.94-2.06-.94 2.06-2.06.94zm-11 1L8.5 8.5l.94-2.06 2.06-.94-2.06-.94L8.5 2.5l-.94 2.06-2.06.94zm10 10l.94 2.06.94-2.06 2.06-.94-2.06-.94-.94-2.06-.94 2.06-2.06.94z\"/><path d=\"M17.41 7.96l-1.37-1.37c-.4-.4-.92-.59-1.43-.59-.52 0-1.04.2-1.43.59L10.3 9.45l-7.72 7.72c-.78.78-.78 2.05 0 2.83L4 21.41c.39.39.9.59 1.41.59.51 0 1.02-.2 1.41-.59l7.78-7.78 2.81-2.81c.8-.78.8-2.07 0-2.86zM5.41 20L4 18.59l7.72-7.72 1.47 1.35L5.41 20z\"/>\n",
              "  </svg>\n",
              "      </button>\n",
              "      \n",
              "  <style>\n",
              "    .colab-df-container {\n",
              "      display:flex;\n",
              "      flex-wrap:wrap;\n",
              "      gap: 12px;\n",
              "    }\n",
              "\n",
              "    .colab-df-convert {\n",
              "      background-color: #E8F0FE;\n",
              "      border: none;\n",
              "      border-radius: 50%;\n",
              "      cursor: pointer;\n",
              "      display: none;\n",
              "      fill: #1967D2;\n",
              "      height: 32px;\n",
              "      padding: 0 0 0 0;\n",
              "      width: 32px;\n",
              "    }\n",
              "\n",
              "    .colab-df-convert:hover {\n",
              "      background-color: #E2EBFA;\n",
              "      box-shadow: 0px 1px 2px rgba(60, 64, 67, 0.3), 0px 1px 3px 1px rgba(60, 64, 67, 0.15);\n",
              "      fill: #174EA6;\n",
              "    }\n",
              "\n",
              "    [theme=dark] .colab-df-convert {\n",
              "      background-color: #3B4455;\n",
              "      fill: #D2E3FC;\n",
              "    }\n",
              "\n",
              "    [theme=dark] .colab-df-convert:hover {\n",
              "      background-color: #434B5C;\n",
              "      box-shadow: 0px 1px 3px 1px rgba(0, 0, 0, 0.15);\n",
              "      filter: drop-shadow(0px 1px 2px rgba(0, 0, 0, 0.3));\n",
              "      fill: #FFFFFF;\n",
              "    }\n",
              "  </style>\n",
              "\n",
              "      <script>\n",
              "        const buttonEl =\n",
              "          document.querySelector('#df-9c143b2a-d3fe-45cd-ad8d-0659c01497f0 button.colab-df-convert');\n",
              "        buttonEl.style.display =\n",
              "          google.colab.kernel.accessAllowed ? 'block' : 'none';\n",
              "\n",
              "        async function convertToInteractive(key) {\n",
              "          const element = document.querySelector('#df-9c143b2a-d3fe-45cd-ad8d-0659c01497f0');\n",
              "          const dataTable =\n",
              "            await google.colab.kernel.invokeFunction('convertToInteractive',\n",
              "                                                     [key], {});\n",
              "          if (!dataTable) return;\n",
              "\n",
              "          const docLinkHtml = 'Like what you see? Visit the ' +\n",
              "            '<a target=\"_blank\" href=https://colab.research.google.com/notebooks/data_table.ipynb>data table notebook</a>'\n",
              "            + ' to learn more about interactive tables.';\n",
              "          element.innerHTML = '';\n",
              "          dataTable['output_type'] = 'display_data';\n",
              "          await google.colab.output.renderOutput(dataTable, element);\n",
              "          const docLink = document.createElement('div');\n",
              "          docLink.innerHTML = docLinkHtml;\n",
              "          element.appendChild(docLink);\n",
              "        }\n",
              "      </script>\n",
              "    </div>\n",
              "  </div>\n",
              "  "
            ]
          },
          "metadata": {},
          "execution_count": 63
        }
      ]
    },
    {
      "cell_type": "code",
      "source": [
        "guage_20t.drop('성별합계',axis=1,inplace=True)\n",
        "guage_20t"
      ],
      "metadata": {
        "colab": {
          "base_uri": "https://localhost:8080/",
          "height": 955
        },
        "id": "gge0S67Xp1rs",
        "outputId": "57723584-129b-47ad-8fc9-fac5cb179b6f"
      },
      "execution_count": 64,
      "outputs": [
        {
          "output_type": "stream",
          "name": "stderr",
          "text": [
            "/usr/local/lib/python3.8/dist-packages/pandas/core/frame.py:4906: SettingWithCopyWarning: \n",
            "A value is trying to be set on a copy of a slice from a DataFrame\n",
            "\n",
            "See the caveats in the documentation: https://pandas.pydata.org/pandas-docs/stable/user_guide/indexing.html#returning-a-view-versus-a-copy\n",
            "  return super().drop(\n"
          ]
        },
        {
          "output_type": "execute_result",
          "data": {
            "text/plain": [
              "         20대합계\n",
              "자치구별(2)       \n",
              "종로구      15338\n",
              "중구       11731\n",
              "용산구      21149\n",
              "성동구      28991\n",
              "광진구      38997\n",
              "동대문구     36965\n",
              "중랑구      31707\n",
              "성북구      42903\n",
              "강북구      23577\n",
              "도봉구      22485\n",
              "노원구      41152\n",
              "은평구      39730\n",
              "서대문구     33091\n",
              "마포구      40498\n",
              "양천구      34831\n",
              "강서구      53355\n",
              "구로구      34445\n",
              "금천구      21365\n",
              "영등포구     36462\n",
              "동작구      44114\n",
              "관악구      69359\n",
              "서초구      37757\n",
              "강남구      51601\n",
              "송파구      59228\n",
              "강동구      38075"
            ],
            "text/html": [
              "\n",
              "  <div id=\"df-635ea856-785d-4caf-807b-d9ce73be0497\">\n",
              "    <div class=\"colab-df-container\">\n",
              "      <div>\n",
              "<style scoped>\n",
              "    .dataframe tbody tr th:only-of-type {\n",
              "        vertical-align: middle;\n",
              "    }\n",
              "\n",
              "    .dataframe tbody tr th {\n",
              "        vertical-align: top;\n",
              "    }\n",
              "\n",
              "    .dataframe thead th {\n",
              "        text-align: right;\n",
              "    }\n",
              "</style>\n",
              "<table border=\"1\" class=\"dataframe\">\n",
              "  <thead>\n",
              "    <tr style=\"text-align: right;\">\n",
              "      <th></th>\n",
              "      <th>20대합계</th>\n",
              "    </tr>\n",
              "    <tr>\n",
              "      <th>자치구별(2)</th>\n",
              "      <th></th>\n",
              "    </tr>\n",
              "  </thead>\n",
              "  <tbody>\n",
              "    <tr>\n",
              "      <th>종로구</th>\n",
              "      <td>15338</td>\n",
              "    </tr>\n",
              "    <tr>\n",
              "      <th>중구</th>\n",
              "      <td>11731</td>\n",
              "    </tr>\n",
              "    <tr>\n",
              "      <th>용산구</th>\n",
              "      <td>21149</td>\n",
              "    </tr>\n",
              "    <tr>\n",
              "      <th>성동구</th>\n",
              "      <td>28991</td>\n",
              "    </tr>\n",
              "    <tr>\n",
              "      <th>광진구</th>\n",
              "      <td>38997</td>\n",
              "    </tr>\n",
              "    <tr>\n",
              "      <th>동대문구</th>\n",
              "      <td>36965</td>\n",
              "    </tr>\n",
              "    <tr>\n",
              "      <th>중랑구</th>\n",
              "      <td>31707</td>\n",
              "    </tr>\n",
              "    <tr>\n",
              "      <th>성북구</th>\n",
              "      <td>42903</td>\n",
              "    </tr>\n",
              "    <tr>\n",
              "      <th>강북구</th>\n",
              "      <td>23577</td>\n",
              "    </tr>\n",
              "    <tr>\n",
              "      <th>도봉구</th>\n",
              "      <td>22485</td>\n",
              "    </tr>\n",
              "    <tr>\n",
              "      <th>노원구</th>\n",
              "      <td>41152</td>\n",
              "    </tr>\n",
              "    <tr>\n",
              "      <th>은평구</th>\n",
              "      <td>39730</td>\n",
              "    </tr>\n",
              "    <tr>\n",
              "      <th>서대문구</th>\n",
              "      <td>33091</td>\n",
              "    </tr>\n",
              "    <tr>\n",
              "      <th>마포구</th>\n",
              "      <td>40498</td>\n",
              "    </tr>\n",
              "    <tr>\n",
              "      <th>양천구</th>\n",
              "      <td>34831</td>\n",
              "    </tr>\n",
              "    <tr>\n",
              "      <th>강서구</th>\n",
              "      <td>53355</td>\n",
              "    </tr>\n",
              "    <tr>\n",
              "      <th>구로구</th>\n",
              "      <td>34445</td>\n",
              "    </tr>\n",
              "    <tr>\n",
              "      <th>금천구</th>\n",
              "      <td>21365</td>\n",
              "    </tr>\n",
              "    <tr>\n",
              "      <th>영등포구</th>\n",
              "      <td>36462</td>\n",
              "    </tr>\n",
              "    <tr>\n",
              "      <th>동작구</th>\n",
              "      <td>44114</td>\n",
              "    </tr>\n",
              "    <tr>\n",
              "      <th>관악구</th>\n",
              "      <td>69359</td>\n",
              "    </tr>\n",
              "    <tr>\n",
              "      <th>서초구</th>\n",
              "      <td>37757</td>\n",
              "    </tr>\n",
              "    <tr>\n",
              "      <th>강남구</th>\n",
              "      <td>51601</td>\n",
              "    </tr>\n",
              "    <tr>\n",
              "      <th>송파구</th>\n",
              "      <td>59228</td>\n",
              "    </tr>\n",
              "    <tr>\n",
              "      <th>강동구</th>\n",
              "      <td>38075</td>\n",
              "    </tr>\n",
              "  </tbody>\n",
              "</table>\n",
              "</div>\n",
              "      <button class=\"colab-df-convert\" onclick=\"convertToInteractive('df-635ea856-785d-4caf-807b-d9ce73be0497')\"\n",
              "              title=\"Convert this dataframe to an interactive table.\"\n",
              "              style=\"display:none;\">\n",
              "        \n",
              "  <svg xmlns=\"http://www.w3.org/2000/svg\" height=\"24px\"viewBox=\"0 0 24 24\"\n",
              "       width=\"24px\">\n",
              "    <path d=\"M0 0h24v24H0V0z\" fill=\"none\"/>\n",
              "    <path d=\"M18.56 5.44l.94 2.06.94-2.06 2.06-.94-2.06-.94-.94-2.06-.94 2.06-2.06.94zm-11 1L8.5 8.5l.94-2.06 2.06-.94-2.06-.94L8.5 2.5l-.94 2.06-2.06.94zm10 10l.94 2.06.94-2.06 2.06-.94-2.06-.94-.94-2.06-.94 2.06-2.06.94z\"/><path d=\"M17.41 7.96l-1.37-1.37c-.4-.4-.92-.59-1.43-.59-.52 0-1.04.2-1.43.59L10.3 9.45l-7.72 7.72c-.78.78-.78 2.05 0 2.83L4 21.41c.39.39.9.59 1.41.59.51 0 1.02-.2 1.41-.59l7.78-7.78 2.81-2.81c.8-.78.8-2.07 0-2.86zM5.41 20L4 18.59l7.72-7.72 1.47 1.35L5.41 20z\"/>\n",
              "  </svg>\n",
              "      </button>\n",
              "      \n",
              "  <style>\n",
              "    .colab-df-container {\n",
              "      display:flex;\n",
              "      flex-wrap:wrap;\n",
              "      gap: 12px;\n",
              "    }\n",
              "\n",
              "    .colab-df-convert {\n",
              "      background-color: #E8F0FE;\n",
              "      border: none;\n",
              "      border-radius: 50%;\n",
              "      cursor: pointer;\n",
              "      display: none;\n",
              "      fill: #1967D2;\n",
              "      height: 32px;\n",
              "      padding: 0 0 0 0;\n",
              "      width: 32px;\n",
              "    }\n",
              "\n",
              "    .colab-df-convert:hover {\n",
              "      background-color: #E2EBFA;\n",
              "      box-shadow: 0px 1px 2px rgba(60, 64, 67, 0.3), 0px 1px 3px 1px rgba(60, 64, 67, 0.15);\n",
              "      fill: #174EA6;\n",
              "    }\n",
              "\n",
              "    [theme=dark] .colab-df-convert {\n",
              "      background-color: #3B4455;\n",
              "      fill: #D2E3FC;\n",
              "    }\n",
              "\n",
              "    [theme=dark] .colab-df-convert:hover {\n",
              "      background-color: #434B5C;\n",
              "      box-shadow: 0px 1px 3px 1px rgba(0, 0, 0, 0.15);\n",
              "      filter: drop-shadow(0px 1px 2px rgba(0, 0, 0, 0.3));\n",
              "      fill: #FFFFFF;\n",
              "    }\n",
              "  </style>\n",
              "\n",
              "      <script>\n",
              "        const buttonEl =\n",
              "          document.querySelector('#df-635ea856-785d-4caf-807b-d9ce73be0497 button.colab-df-convert');\n",
              "        buttonEl.style.display =\n",
              "          google.colab.kernel.accessAllowed ? 'block' : 'none';\n",
              "\n",
              "        async function convertToInteractive(key) {\n",
              "          const element = document.querySelector('#df-635ea856-785d-4caf-807b-d9ce73be0497');\n",
              "          const dataTable =\n",
              "            await google.colab.kernel.invokeFunction('convertToInteractive',\n",
              "                                                     [key], {});\n",
              "          if (!dataTable) return;\n",
              "\n",
              "          const docLinkHtml = 'Like what you see? Visit the ' +\n",
              "            '<a target=\"_blank\" href=https://colab.research.google.com/notebooks/data_table.ipynb>data table notebook</a>'\n",
              "            + ' to learn more about interactive tables.';\n",
              "          element.innerHTML = '';\n",
              "          dataTable['output_type'] = 'display_data';\n",
              "          await google.colab.output.renderOutput(dataTable, element);\n",
              "          const docLink = document.createElement('div');\n",
              "          docLink.innerHTML = docLinkHtml;\n",
              "          element.appendChild(docLink);\n",
              "        }\n",
              "      </script>\n",
              "    </div>\n",
              "  </div>\n",
              "  "
            ]
          },
          "metadata": {},
          "execution_count": 64
        }
      ]
    },
    {
      "cell_type": "code",
      "source": [
        "guage_20t.sort_values(by='20대합계',ascending=False,inplace=True)"
      ],
      "metadata": {
        "colab": {
          "base_uri": "https://localhost:8080/"
        },
        "id": "vUROJVNFqNv-",
        "outputId": "84ac34f5-dc9d-4dea-92fa-9671e3646c24"
      },
      "execution_count": 65,
      "outputs": [
        {
          "output_type": "stream",
          "name": "stderr",
          "text": [
            "/usr/local/lib/python3.8/dist-packages/pandas/util/_decorators.py:311: SettingWithCopyWarning: \n",
            "A value is trying to be set on a copy of a slice from a DataFrame\n",
            "\n",
            "See the caveats in the documentation: https://pandas.pydata.org/pandas-docs/stable/user_guide/indexing.html#returning-a-view-versus-a-copy\n",
            "  return func(*args, **kwargs)\n"
          ]
        }
      ]
    },
    {
      "cell_type": "code",
      "source": [
        "guage_20t['자치구'] = guage_20t.index\n",
        "plt.figure(figsize = (16, 8))\n",
        "sns.barplot(data = guage_20t, x = '자치구', y = '20대합계')\n",
        "plt.show()"
      ],
      "metadata": {
        "colab": {
          "base_uri": "https://localhost:8080/",
          "height": 606
        },
        "id": "tXndvGnCqbly",
        "outputId": "bdb8fdc8-ac51-4562-b2d6-dde37b130b55"
      },
      "execution_count": 66,
      "outputs": [
        {
          "output_type": "stream",
          "name": "stderr",
          "text": [
            "<ipython-input-66-4a1e4a039477>:1: SettingWithCopyWarning: \n",
            "A value is trying to be set on a copy of a slice from a DataFrame.\n",
            "Try using .loc[row_indexer,col_indexer] = value instead\n",
            "\n",
            "See the caveats in the documentation: https://pandas.pydata.org/pandas-docs/stable/user_guide/indexing.html#returning-a-view-versus-a-copy\n",
            "  guage_20t['자치구'] = guage_20t.index\n"
          ]
        },
        {
          "output_type": "display_data",
          "data": {
            "text/plain": [
              "<Figure size 1152x576 with 1 Axes>"
            ],
            "image/png": "[encoded data removed]"
          },
          "metadata": {
            "needs_background": "light"
          }
        }
      ]
    },
    {
      "cell_type": "markdown",
      "source": [
        "주 광고 타겟을 20대 남성과 여성으로 잡았으므로 20대 인구가 가장 많은 구를 파악\n",
        "관악 송파 강서 강남순으로 많은 것을 볼 수 있다.\n"
      ],
      "metadata": {
        "id": "_7Km6rLLRiIy"
      }
    }
  ],
  "metadata": {
    "colab": {
      "provenance": [],
      "mount_file_id": "1ojLaEp9Cro8B96CldJ7FJyl_yXrn7Gh9",
      "authorship_tag": "ABX9TyOnQKIWnIiwP7Xb01soYjTI",
      "include_colab_link": true
    },
    "kernelspec": {
      "display_name": "Python 3",
      "name": "python3"
    },
    "language_info": {
      "name": "python"
    },
    "accelerator": "GPU",
    "gpuClass": "standard"
  },
  "nbformat": 4,
  "nbformat_minor": 0
}