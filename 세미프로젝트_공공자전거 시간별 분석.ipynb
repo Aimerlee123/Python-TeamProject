{
 "cells": [
  {
   "cell_type": "code",
   "execution_count": 26,
   "id": "e7dea066",
   "metadata": {},
   "outputs": [],
   "source": [
    "import numpy as np\n",
    "import pandas as pd"
   ]
  },
  {
   "cell_type": "code",
   "execution_count": 56,
   "id": "c1f7417f",
   "metadata": {},
   "outputs": [],
   "source": [
    "from IPython.core.interactiveshell import InteractiveShell\n",
    "InteractiveShell.ast_node_interactivity=\"all\""
   ]
  },
  {
   "cell_type": "code",
   "execution_count": 3,
   "id": "81154bfd",
   "metadata": {},
   "outputs": [],
   "source": [
    "import matplotlib.pyplot as plt\n",
    "import platform\n",
    "\n",
    "from matplotlib import font_manager, rc\n",
    "plt.rcParams['axes.unicode_minus'] = False\n",
    "\n",
    "if platform.system() == 'Darwin':  # 맥OS \n",
    "    rc('font', family='AppleGothic')\n",
    "elif platform.system() == 'Windows':  # 윈도우\n",
    "    path = \"c:/Windows/Fonts/malgun.ttf\"\n",
    "    font_name = font_manager.FontProperties(fname=path).get_name()\n",
    "    rc('font', family=font_name)\n",
    "else:\n",
    "    print('Unknown system...  sorry~~~')"
   ]
  },
  {
   "cell_type": "code",
   "execution_count": 4,
   "id": "fa13288e",
   "metadata": {},
   "outputs": [],
   "source": [
    "pd.set_option('display.max_columns', 50)\n",
    "pd.set_option('display.max_rows', 50)"
   ]
  },
  {
   "cell_type": "code",
   "execution_count": 5,
   "id": "8476a28a",
   "metadata": {},
   "outputs": [],
   "source": [
    "pd.options.display.float_format = '{:.2f}'.format"
   ]
  },
  {
   "cell_type": "code",
   "execution_count": 57,
   "id": "7eb91e7e",
   "metadata": {},
   "outputs": [
    {
     "data": {
      "text/html": [
       "<div>\n",
       "<style scoped>\n",
       "    .dataframe tbody tr th:only-of-type {\n",
       "        vertical-align: middle;\n",
       "    }\n",
       "\n",
       "    .dataframe tbody tr th {\n",
       "        vertical-align: top;\n",
       "    }\n",
       "\n",
       "    .dataframe thead th {\n",
       "        text-align: right;\n",
       "    }\n",
       "</style>\n",
       "<table border=\"1\" class=\"dataframe\">\n",
       "  <thead>\n",
       "    <tr style=\"text-align: right;\">\n",
       "      <th></th>\n",
       "      <th>대여일자</th>\n",
       "      <th>대여시간</th>\n",
       "      <th>대여소번호</th>\n",
       "      <th>대여소명</th>\n",
       "      <th>대여구분코드</th>\n",
       "      <th>성별</th>\n",
       "      <th>연령대코드</th>\n",
       "      <th>이용건수</th>\n",
       "      <th>운동량</th>\n",
       "      <th>탄소량</th>\n",
       "      <th>이동거리(M)</th>\n",
       "      <th>이용시간(분)</th>\n",
       "    </tr>\n",
       "  </thead>\n",
       "  <tbody>\n",
       "    <tr>\n",
       "      <th>0</th>\n",
       "      <td>2022-12-01</td>\n",
       "      <td>0</td>\n",
       "      <td>746</td>\n",
       "      <td>746. 목동2단지 상가</td>\n",
       "      <td>정기권</td>\n",
       "      <td>NaN</td>\n",
       "      <td>~10대</td>\n",
       "      <td>1</td>\n",
       "      <td>13.54</td>\n",
       "      <td>0.13</td>\n",
       "      <td>570.00</td>\n",
       "      <td>3</td>\n",
       "    </tr>\n",
       "    <tr>\n",
       "      <th>1</th>\n",
       "      <td>2022-12-01</td>\n",
       "      <td>0</td>\n",
       "      <td>1653</td>\n",
       "      <td>1653. 노원역1번출구</td>\n",
       "      <td>정기권</td>\n",
       "      <td>NaN</td>\n",
       "      <td>~10대</td>\n",
       "      <td>1</td>\n",
       "      <td>32.81</td>\n",
       "      <td>0.36</td>\n",
       "      <td>1534.33</td>\n",
       "      <td>12</td>\n",
       "    </tr>\n",
       "    <tr>\n",
       "      <th>2</th>\n",
       "      <td>2022-12-01</td>\n",
       "      <td>0</td>\n",
       "      <td>1974</td>\n",
       "      <td>1974. 신도림2차e편한세상아파트 203동 앞</td>\n",
       "      <td>정기권</td>\n",
       "      <td>NaN</td>\n",
       "      <td>~10대</td>\n",
       "      <td>1</td>\n",
       "      <td>19.10</td>\n",
       "      <td>0.17</td>\n",
       "      <td>720.00</td>\n",
       "      <td>4</td>\n",
       "    </tr>\n",
       "  </tbody>\n",
       "</table>\n",
       "</div>"
      ],
      "text/plain": [
       "         대여일자  대여시간  대여소번호                        대여소명 대여구분코드   성별 연령대코드  \\\n",
       "0  2022-12-01     0    746               746. 목동2단지 상가    정기권  NaN  ~10대   \n",
       "1  2022-12-01     0   1653               1653. 노원역1번출구    정기권  NaN  ~10대   \n",
       "2  2022-12-01     0   1974  1974. 신도림2차e편한세상아파트 203동 앞    정기권  NaN  ~10대   \n",
       "\n",
       "   이용건수    운동량   탄소량  이동거리(M)  이용시간(분)  \n",
       "0     1  13.54  0.13   570.00        3  \n",
       "1     1  32.81  0.36  1534.33       12  \n",
       "2     1  19.10  0.17   720.00        4  "
      ]
     },
     "execution_count": 57,
     "metadata": {},
     "output_type": "execute_result"
    },
    {
     "name": "stdout",
     "output_type": "stream",
     "text": [
      "<class 'pandas.core.frame.DataFrame'>\n",
      "RangeIndex: 1638969 entries, 0 to 1638968\n",
      "Data columns (total 12 columns):\n",
      " #   Column   Non-Null Count    Dtype  \n",
      "---  ------   --------------    -----  \n",
      " 0   대여일자     1638969 non-null  object \n",
      " 1   대여시간     1638969 non-null  int64  \n",
      " 2   대여소번호    1638969 non-null  int64  \n",
      " 3   대여소명     1638969 non-null  object \n",
      " 4   대여구분코드   1638969 non-null  object \n",
      " 5   성별       1112717 non-null  object \n",
      " 6   연령대코드    1638969 non-null  object \n",
      " 7   이용건수     1638969 non-null  int64  \n",
      " 8   운동량      1638969 non-null  object \n",
      " 9   탄소량      1638969 non-null  object \n",
      " 10  이동거리(M)  1638969 non-null  float64\n",
      " 11  이용시간(분)  1638969 non-null  int64  \n",
      "dtypes: float64(1), int64(4), object(7)\n",
      "memory usage: 150.1+ MB\n"
     ]
    }
   ],
   "source": [
    "df_time = pd.read_csv('data/Project1/서울특별시 공공자전거 이용정보(시간대별)_22.12.csv', \n",
    "                 encoding='ansi')\n",
    "time = df_time.copy()\n",
    "time.head(3)\n",
    "time.info()"
   ]
  },
  {
   "cell_type": "code",
   "execution_count": 21,
   "id": "2658c77b",
   "metadata": {},
   "outputs": [
    {
     "data": {
      "text/plain": [
       "count        1638969\n",
       "unique            31\n",
       "top       2022-12-09\n",
       "freq           92998\n",
       "Name: 대여일자, dtype: object"
      ]
     },
     "execution_count": 21,
     "metadata": {},
     "output_type": "execute_result"
    }
   ],
   "source": [
    "df_time['대여일자'].describe()"
   ]
  },
  {
   "cell_type": "code",
   "execution_count": 42,
   "id": "b568b8e0",
   "metadata": {},
   "outputs": [
    {
     "data": {
      "text/plain": [
       "0         2022-12-01\n",
       "1         2022-12-01\n",
       "2         2022-12-01\n",
       "3         2022-12-01\n",
       "4         2022-12-01\n",
       "             ...    \n",
       "1638964   2022-12-31\n",
       "1638965   2022-12-31\n",
       "1638966   2022-12-31\n",
       "1638967   2022-12-31\n",
       "1638968   2022-12-31\n",
       "Name: 대여일자, Length: 1638969, dtype: datetime64[ns]"
      ]
     },
     "execution_count": 42,
     "metadata": {},
     "output_type": "execute_result"
    }
   ],
   "source": [
    "##\n",
    "time['대여일자'] = pd.to_datetime(time['대여일자'], infer_datetime_format=True)\n",
    "time['대여일자']"
   ]
  },
  {
   "cell_type": "code",
   "execution_count": 43,
   "id": "19d8e73c",
   "metadata": {},
   "outputs": [],
   "source": [
    "time[\"년\"] = time[\"대여일자\"].dt.year\n",
    "time[\"월\"] = time[\"대여일자\"].dt.month\n",
    "time[\"일\"] = time[\"대여일자\"].dt.day"
   ]
  },
  {
   "cell_type": "code",
   "execution_count": 47,
   "id": "14ac9b7e",
   "metadata": {},
   "outputs": [],
   "source": [
    "# 대여일자별 빈도\n",
    "time_day = time['일'].value_counts().sort_index()"
   ]
  },
  {
   "cell_type": "code",
   "execution_count": 48,
   "id": "a3c80813",
   "metadata": {},
   "outputs": [
    {
     "data": {
      "text/plain": [
       "<AxesSubplot:>"
      ]
     },
     "execution_count": 48,
     "metadata": {},
     "output_type": "execute_result"
    },
    {
     "data": {
      "image/png": "[encoded data removed]",
      "text/plain": [
       "<Figure size 640x480 with 1 Axes>"
      ]
     },
     "metadata": {},
     "output_type": "display_data"
    }
   ],
   "source": [
    "time_day.plot.bar()"
   ]
  },
  {
   "cell_type": "code",
   "execution_count": 12,
   "id": "8f034bce",
   "metadata": {
    "scrolled": true
   },
   "outputs": [],
   "source": [
    "monday = len(time.query('대여일자.dt.dayofweek == 0'))\n",
    "tuesday = len(time.query('대여일자.dt.dayofweek == 1'))\n",
    "wednesday = len(time.query('대여일자.dt.dayofweek == 2'))\n",
    "thursday = len(time.query('대여일자.dt.dayofweek == 3'))\n",
    "friday = len(time.query('대여일자.dt.dayofweek == 4'))\n",
    "saturday = len(time.query('대여일자.dt.dayofweek == 5'))\n",
    "sunday = len(time.query('대여일자.dt.dayofweek == 6'))"
   ]
  },
  {
   "cell_type": "code",
   "execution_count": 18,
   "id": "293e4e83",
   "metadata": {},
   "outputs": [
    {
     "data": {
      "text/html": [
       "<div>\n",
       "<style scoped>\n",
       "    .dataframe tbody tr th:only-of-type {\n",
       "        vertical-align: middle;\n",
       "    }\n",
       "\n",
       "    .dataframe tbody tr th {\n",
       "        vertical-align: top;\n",
       "    }\n",
       "\n",
       "    .dataframe thead th {\n",
       "        text-align: right;\n",
       "    }\n",
       "</style>\n",
       "<table border=\"1\" class=\"dataframe\">\n",
       "  <thead>\n",
       "    <tr style=\"text-align: right;\">\n",
       "      <th></th>\n",
       "      <th>사용자 수</th>\n",
       "    </tr>\n",
       "  </thead>\n",
       "  <tbody>\n",
       "    <tr>\n",
       "      <th>월</th>\n",
       "      <td>224111</td>\n",
       "    </tr>\n",
       "    <tr>\n",
       "      <th>화</th>\n",
       "      <td>242966</td>\n",
       "    </tr>\n",
       "    <tr>\n",
       "      <th>수</th>\n",
       "      <td>219406</td>\n",
       "    </tr>\n",
       "    <tr>\n",
       "      <th>목</th>\n",
       "      <td>286849</td>\n",
       "    </tr>\n",
       "    <tr>\n",
       "      <th>금</th>\n",
       "      <td>295312</td>\n",
       "    </tr>\n",
       "    <tr>\n",
       "      <th>토</th>\n",
       "      <td>221473</td>\n",
       "    </tr>\n",
       "    <tr>\n",
       "      <th>일</th>\n",
       "      <td>148852</td>\n",
       "    </tr>\n",
       "  </tbody>\n",
       "</table>\n",
       "</div>"
      ],
      "text/plain": [
       "    사용자 수\n",
       "월  224111\n",
       "화  242966\n",
       "수  219406\n",
       "목  286849\n",
       "금  295312\n",
       "토  221473\n",
       "일  148852"
      ]
     },
     "execution_count": 18,
     "metadata": {},
     "output_type": "execute_result"
    }
   ],
   "source": [
    "day_week = pd.DataFrame(data = [monday,tuesday,wednesday,\n",
    "                                thursday,friday,\n",
    "                                saturday,sunday], \n",
    "                        index =['월','화','수','목','금','토','일'],\n",
    "                     columns =['사용자 수'])\n",
    "day_week"
   ]
  },
  {
   "cell_type": "code",
   "execution_count": 19,
   "id": "33712d16",
   "metadata": {},
   "outputs": [
    {
     "data": {
      "text/plain": [
       "<AxesSubplot:>"
      ]
     },
     "execution_count": 19,
     "metadata": {},
     "output_type": "execute_result"
    },
    {
     "data": {
      "image/png": "[encoded data removed]",
      "text/plain": [
       "<Figure size 640x480 with 1 Axes>"
      ]
     },
     "metadata": {},
     "output_type": "display_data"
    }
   ],
   "source": [
    "#요일별 사용자 수\n",
    "day_week.plot.bar()"
   ]
  },
  {
   "cell_type": "code",
   "execution_count": 33,
   "id": "f2a9ce2e",
   "metadata": {},
   "outputs": [
    {
     "data": {
      "text/plain": [
       "array([ 0,  1,  2,  3,  4,  5,  6,  7,  8,  9, 10, 11, 12, 13, 14, 15, 16,\n",
       "       17, 18, 19, 20, 21, 22, 23], dtype=int64)"
      ]
     },
     "execution_count": 33,
     "metadata": {},
     "output_type": "execute_result"
    }
   ],
   "source": [
    "time['대여시간'].unique()"
   ]
  },
  {
   "cell_type": "code",
   "execution_count": 38,
   "id": "193276ff",
   "metadata": {},
   "outputs": [
    {
     "data": {
      "text/html": [
       "<div>\n",
       "<style scoped>\n",
       "    .dataframe tbody tr th:only-of-type {\n",
       "        vertical-align: middle;\n",
       "    }\n",
       "\n",
       "    .dataframe tbody tr th {\n",
       "        vertical-align: top;\n",
       "    }\n",
       "\n",
       "    .dataframe thead th {\n",
       "        text-align: right;\n",
       "    }\n",
       "</style>\n",
       "<table border=\"1\" class=\"dataframe\">\n",
       "  <thead>\n",
       "    <tr style=\"text-align: right;\">\n",
       "      <th></th>\n",
       "      <th>대여시간</th>\n",
       "    </tr>\n",
       "  </thead>\n",
       "  <tbody>\n",
       "    <tr>\n",
       "      <th>0</th>\n",
       "      <td>39004</td>\n",
       "    </tr>\n",
       "    <tr>\n",
       "      <th>1</th>\n",
       "      <td>29344</td>\n",
       "    </tr>\n",
       "    <tr>\n",
       "      <th>2</th>\n",
       "      <td>22189</td>\n",
       "    </tr>\n",
       "    <tr>\n",
       "      <th>3</th>\n",
       "      <td>14941</td>\n",
       "    </tr>\n",
       "    <tr>\n",
       "      <th>4</th>\n",
       "      <td>10437</td>\n",
       "    </tr>\n",
       "    <tr>\n",
       "      <th>5</th>\n",
       "      <td>17693</td>\n",
       "    </tr>\n",
       "    <tr>\n",
       "      <th>6</th>\n",
       "      <td>33778</td>\n",
       "    </tr>\n",
       "    <tr>\n",
       "      <th>7</th>\n",
       "      <td>77618</td>\n",
       "    </tr>\n",
       "    <tr>\n",
       "      <th>8</th>\n",
       "      <td>132780</td>\n",
       "    </tr>\n",
       "    <tr>\n",
       "      <th>9</th>\n",
       "      <td>81351</td>\n",
       "    </tr>\n",
       "    <tr>\n",
       "      <th>10</th>\n",
       "      <td>64681</td>\n",
       "    </tr>\n",
       "    <tr>\n",
       "      <th>11</th>\n",
       "      <td>74491</td>\n",
       "    </tr>\n",
       "    <tr>\n",
       "      <th>12</th>\n",
       "      <td>81724</td>\n",
       "    </tr>\n",
       "    <tr>\n",
       "      <th>13</th>\n",
       "      <td>83638</td>\n",
       "    </tr>\n",
       "    <tr>\n",
       "      <th>14</th>\n",
       "      <td>83569</td>\n",
       "    </tr>\n",
       "    <tr>\n",
       "      <th>15</th>\n",
       "      <td>89701</td>\n",
       "    </tr>\n",
       "    <tr>\n",
       "      <th>16</th>\n",
       "      <td>101718</td>\n",
       "    </tr>\n",
       "    <tr>\n",
       "      <th>17</th>\n",
       "      <td>119572</td>\n",
       "    </tr>\n",
       "    <tr>\n",
       "      <th>18</th>\n",
       "      <td>135412</td>\n",
       "    </tr>\n",
       "    <tr>\n",
       "      <th>19</th>\n",
       "      <td>92480</td>\n",
       "    </tr>\n",
       "    <tr>\n",
       "      <th>20</th>\n",
       "      <td>75639</td>\n",
       "    </tr>\n",
       "    <tr>\n",
       "      <th>21</th>\n",
       "      <td>70154</td>\n",
       "    </tr>\n",
       "    <tr>\n",
       "      <th>22</th>\n",
       "      <td>62375</td>\n",
       "    </tr>\n",
       "    <tr>\n",
       "      <th>23</th>\n",
       "      <td>44680</td>\n",
       "    </tr>\n",
       "  </tbody>\n",
       "</table>\n",
       "</div>"
      ],
      "text/plain": [
       "      대여시간\n",
       "0    39004\n",
       "1    29344\n",
       "2    22189\n",
       "3    14941\n",
       "4    10437\n",
       "5    17693\n",
       "6    33778\n",
       "7    77618\n",
       "8   132780\n",
       "9    81351\n",
       "10   64681\n",
       "11   74491\n",
       "12   81724\n",
       "13   83638\n",
       "14   83569\n",
       "15   89701\n",
       "16  101718\n",
       "17  119572\n",
       "18  135412\n",
       "19   92480\n",
       "20   75639\n",
       "21   70154\n",
       "22   62375\n",
       "23   44680"
      ]
     },
     "execution_count": 38,
     "metadata": {},
     "output_type": "execute_result"
    }
   ],
   "source": [
    "time2 =pd.DataFrame(time['대여시간'].value_counts()).sort_index()\n",
    "time2"
   ]
  },
  {
   "cell_type": "code",
   "execution_count": 39,
   "id": "52161123",
   "metadata": {
    "scrolled": true
   },
   "outputs": [
    {
     "data": {
      "text/plain": [
       "<AxesSubplot:>"
      ]
     },
     "execution_count": 39,
     "metadata": {},
     "output_type": "execute_result"
    },
    {
     "data": {
      "image/png": "[encoded data removed]",
      "text/plain": [
       "<Figure size 640x480 with 1 Axes>"
      ]
     },
     "metadata": {},
     "output_type": "display_data"
    }
   ],
   "source": [
    "# 대여시간\n",
    "time2.plot.bar()"
   ]
  }
 ],
 "metadata": {
  "kernelspec": {
   "display_name": "Python 3 (ipykernel)",
   "language": "python",
   "name": "python3"
  },
  "language_info": {
   "codemirror_mode": {
    "name": "ipython",
    "version": 3
   },
   "file_extension": ".py",
   "mimetype": "text/x-python",
   "name": "python",
   "nbconvert_exporter": "python",
   "pygments_lexer": "ipython3",
   "version": "3.9.13"
  }
 },
 "nbformat": 4,
 "nbformat_minor": 5
}
